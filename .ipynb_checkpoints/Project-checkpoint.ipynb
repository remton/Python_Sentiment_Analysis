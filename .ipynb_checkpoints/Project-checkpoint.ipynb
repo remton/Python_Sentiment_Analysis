{
 "cells": [
  {
   "cell_type": "code",
   "execution_count": 45,
   "id": "d21c45e2",
   "metadata": {},
   "outputs": [],
   "source": [
    "#pip install scikit-learn\n",
    "#pip install pandas\n",
    "\n",
    "# Main imports pandas and sklearn\n",
    "import pandas as pd\n",
    "from sklearn.model_selection import train_test_split\n",
    "from sklearn import metrics\n",
    "from sklearn.feature_extraction.text import TfidfVectorizer\n",
    "from sklearn import svm\n",
    "from sklearn.metrics import classification_report\n",
    "from sklearn.tree import DecisionTreeClassifier\n",
    "from sklearn import tree\n",
    "\n",
    "# We need to do some web scraping to get the review text\n",
    "import urllib.request\n",
    "from bs4 import BeautifulSoup\n",
    "\n",
    "#Other imports\n",
    "import time\n",
    "import sys\n",
    "from os import system\n",
    "from IPython.display import clear_output"
   ]
  },
  {
   "cell_type": "markdown",
   "id": "021a83bc",
   "metadata": {},
   "source": [
    "# Load in data\n",
    "### There are a few steps to getting clean data\n",
    "- Read data from kaggle into dataframes\n",
    "- Get rid of unecessary features of the data\n",
    "- (For general data) get the review text from the web\n",
    "- Clean data using dropna"
   ]
  },
  {
   "cell_type": "markdown",
   "id": "f262b163",
   "metadata": {},
   "source": [
    "## Read in data from csv"
   ]
  },
  {
   "cell_type": "code",
   "execution_count": 46,
   "id": "257f8be9",
   "metadata": {},
   "outputs": [],
   "source": [
    "# Lets define our file paths for reading in data\n",
    "# download dataset at: https://www.kaggle.com/datasets/joyshil0599/multi-decade-video-game-review-dataset\n",
    "GENERAL_DATASET_PATH = \"data/general_reviews.csv\"\n",
    "# download dataset at: https://www.kaggle.com/datasets/noahx1/elden-ring-steam-reviews\n",
    "ELDEN_RING_DATASET_PATH = \"data/elden_ring_steam_reviews.csv\"\n",
    "# Path to save cleaned general data file\n",
    "GENERAL_CLEAN_DATA_PATH = 'data/general_data_clean.csv'\n",
    "\n",
    "#load in dataset\n",
    "# We have two datasets:\n",
    "# one using gamespot reviews (general_data)\n",
    "# the other Elden Ring Steam reviews (elden_ring_data)\n",
    "general_data = pd.read_csv(GENERAL_DATASET_PATH)\n",
    "elden_ring_data = pd.read_csv(ELDEN_RING_DATASET_PATH)\n"
   ]
  },
  {
   "cell_type": "code",
   "execution_count": 47,
   "id": "a5fd8eb2",
   "metadata": {},
   "outputs": [],
   "source": [
    "# Lets only keep the columns we want\n",
    "general_data = general_data[['Review link','Rating/10']]\n",
    "elden_ring_data = elden_ring_data[['voted_up','review']]"
   ]
  },
  {
   "cell_type": "markdown",
   "id": "49173fc2",
   "metadata": {},
   "source": [
    "# Read in reviews from web (for general data)"
   ]
  },
  {
   "cell_type": "code",
   "execution_count": 48,
   "id": "70ae9564",
   "metadata": {},
   "outputs": [],
   "source": [
    "# Now lets define how to get the text of the reviews from the web\n",
    "def GetReviewsFromWeb():\n",
    "    num_processed = 1\n",
    "    prev_time = time.time()\n",
    "    num_links = len(general_data.index)\n",
    "    check_interval = 5\n",
    "    reviews = []\n",
    "    failed_links = []\n",
    "    for link in general_data['Review link']:\n",
    "        # Try to get the review text\n",
    "        try:\n",
    "            page = urllib.request.urlopen(link).read()\n",
    "            page = BeautifulSoup(page)\n",
    "            review = \"\"\n",
    "            body = page.find(class_=\"article-body typography-format\")\n",
    "            paragraphs = body.find_all(\"p\")\n",
    "            if(len(paragraphs)==0):\n",
    "                raise Exception('NO REVIEW TEXT FOUND')\n",
    "            for p in paragraphs:\n",
    "                review+=p.text+\" \"\n",
    "            reviews.append(review)\n",
    "        # If we could not get the review text\n",
    "        except:\n",
    "            reviews.append(None)\n",
    "            failed_links.append(link)\n",
    "        # Display progress\n",
    "        num_processed = num_processed + 1\n",
    "        if(num_processed % check_interval == 0):\n",
    "            prediction = (time.time() - prev_time)/(check_interval) * (num_links-len(reviews))\n",
    "            prev_time = time.time()\n",
    "            system('cls')\n",
    "            clear_output(wait=True)\n",
    "            print(f\"Reviews lost: {len(failed_links)}\")\n",
    "            print(f\"processed: {num_processed} / {num_links}\")\n",
    "            print(f\"Time left: {int(prediction)} s\")  \n",
    "    #Update dataframe and write to file\n",
    "    general_data['Review'] = reviews\n",
    "    # Now lets finish cleaning the data by dropping any rows where we do not have a review\n",
    "    old_size = general_data.shape\n",
    "    general_data.dropna(inplace=True)\n",
    "    general_data.to_csv(GENERAL_CLEAN_DATA_PATH)\n",
    "    new_size = general_data.shape\n",
    "    print(\"Dropping invalid reviews.\")\n",
    "    print(f\"Old count: {old_size[0]}\")\n",
    "    print(f\"New count: {new_size[0]}\")\n",
    "    print(f\"Removed {old_size[0]-new_size[0]} reviews.\")"
   ]
  },
  {
   "cell_type": "code",
   "execution_count": 49,
   "id": "001e240a",
   "metadata": {},
   "outputs": [],
   "source": [
    "# If we don't already have the clean data we need to get it from the web\n",
    "file_found = True\n",
    "try:\n",
    "    general_data = pd.read_csv(GENERAL_CLEAN_DATA_PATH)\n",
    "except FileNotFoundError as e:\n",
    "    file_found = False\n",
    "if(not file_found):\n",
    "    GetReviewsFromWeb()\n"
   ]
  },
  {
   "cell_type": "markdown",
   "id": "ed0c7478",
   "metadata": {},
   "source": [
    "# Now lets define our classifications (Sentiment)"
   ]
  },
  {
   "cell_type": "code",
   "execution_count": 50,
   "id": "e6c89124",
   "metadata": {},
   "outputs": [],
   "source": [
    "# We define 2 sentiments to classify\n",
    "GOOD = 'Good'\n",
    "BAD = 'Bad'\n"
   ]
  },
  {
   "cell_type": "code",
   "execution_count": 51,
   "id": "0459c45a",
   "metadata": {},
   "outputs": [
    {
     "name": "stdout",
     "output_type": "stream",
     "text": [
      "DATA DISTRIBUTION:\n",
      "Bad: 487\n",
      "Good: 1160\n"
     ]
    },
    {
     "data": {
      "text/html": [
       "<div>\n",
       "<style scoped>\n",
       "    .dataframe tbody tr th:only-of-type {\n",
       "        vertical-align: middle;\n",
       "    }\n",
       "\n",
       "    .dataframe tbody tr th {\n",
       "        vertical-align: top;\n",
       "    }\n",
       "\n",
       "    .dataframe thead th {\n",
       "        text-align: right;\n",
       "    }\n",
       "</style>\n",
       "<table border=\"1\" class=\"dataframe\">\n",
       "  <thead>\n",
       "    <tr style=\"text-align: right;\">\n",
       "      <th></th>\n",
       "      <th>Review link</th>\n",
       "      <th>Rating/10</th>\n",
       "      <th>Sentiment</th>\n",
       "      <th>Review</th>\n",
       "    </tr>\n",
       "  </thead>\n",
       "  <tbody>\n",
       "    <tr>\n",
       "      <th>0</th>\n",
       "      <td>https://www.gamespot.com/reviews/tales-of-symp...</td>\n",
       "      <td>5.0</td>\n",
       "      <td>Bad</td>\n",
       "      <td>Tales of Symphonia was a formative experience ...</td>\n",
       "    </tr>\n",
       "    <tr>\n",
       "      <th>1</th>\n",
       "      <td>https://www.gamespot.com/reviews/kirbys-return...</td>\n",
       "      <td>7.0</td>\n",
       "      <td>Good</td>\n",
       "      <td>Mario is the most versatile character in the N...</td>\n",
       "    </tr>\n",
       "    <tr>\n",
       "      <th>2</th>\n",
       "      <td>https://www.gamespot.com/reviews/hogwarts-lega...</td>\n",
       "      <td>6.0</td>\n",
       "      <td>Bad</td>\n",
       "      <td>It's difficult to find someone oblivious to th...</td>\n",
       "    </tr>\n",
       "    <tr>\n",
       "      <th>3</th>\n",
       "      <td>https://www.gamespot.com/reviews/atomic-heart-...</td>\n",
       "      <td>6.0</td>\n",
       "      <td>Bad</td>\n",
       "      <td>In the alternate history of Atomic Heart, a sc...</td>\n",
       "    </tr>\n",
       "    <tr>\n",
       "      <th>4</th>\n",
       "      <td>https://www.gamespot.com/reviews/like-a-dragon...</td>\n",
       "      <td>8.0</td>\n",
       "      <td>Good</td>\n",
       "      <td>Take the faces, voices, and over-the-top theat...</td>\n",
       "    </tr>\n",
       "  </tbody>\n",
       "</table>\n",
       "</div>"
      ],
      "text/plain": [
       "                                         Review link  Rating/10 Sentiment   \n",
       "0  https://www.gamespot.com/reviews/tales-of-symp...        5.0       Bad  \\\n",
       "1  https://www.gamespot.com/reviews/kirbys-return...        7.0      Good   \n",
       "2  https://www.gamespot.com/reviews/hogwarts-lega...        6.0       Bad   \n",
       "3  https://www.gamespot.com/reviews/atomic-heart-...        6.0       Bad   \n",
       "4  https://www.gamespot.com/reviews/like-a-dragon...        8.0      Good   \n",
       "\n",
       "                                              Review  \n",
       "0  Tales of Symphonia was a formative experience ...  \n",
       "1  Mario is the most versatile character in the N...  \n",
       "2  It's difficult to find someone oblivious to th...  \n",
       "3  In the alternate history of Atomic Heart, a sc...  \n",
       "4  Take the faces, voices, and over-the-top theat...  "
      ]
     },
     "execution_count": 51,
     "metadata": {},
     "output_type": "execute_result"
    }
   ],
   "source": [
    "# General data\n",
    "# I tried to choose values for rating that made sense and split the data kind of evenly\n",
    "def GetSentimentFromRating(rating):\n",
    "    if(rating is None):\n",
    "        return None\n",
    "    if(rating >= 7):\n",
    "        return GOOD\n",
    "    if(rating > 0):\n",
    "        return BAD\n",
    "s = []\n",
    "for rating in general_data['Rating/10'].to_list():\n",
    "    s.append(GetSentimentFromRating(rating))\n",
    "general_data['Sentiment'] = s\n",
    "general_data.dropna(inplace=True)\n",
    "print(\"DATA DISTRIBUTION:\")\n",
    "SENTIMENTS = general_data['Sentiment'].unique()\n",
    "for s in SENTIMENTS:\n",
    "    print(f\"{s}: {sum(1 for i in general_data['Sentiment'] if i == s)}\")\n",
    "general_data.head()"
   ]
  },
  {
   "cell_type": "code",
   "execution_count": 53,
   "id": "8b1252e5",
   "metadata": {},
   "outputs": [
    {
     "name": "stdout",
     "output_type": "stream",
     "text": [
      "DATA DISTRIBUTION:\n",
      "Good: 9174\n",
      "Bad: 591\n"
     ]
    },
    {
     "data": {
      "text/html": [
       "<div>\n",
       "<style scoped>\n",
       "    .dataframe tbody tr th:only-of-type {\n",
       "        vertical-align: middle;\n",
       "    }\n",
       "\n",
       "    .dataframe tbody tr th {\n",
       "        vertical-align: top;\n",
       "    }\n",
       "\n",
       "    .dataframe thead th {\n",
       "        text-align: right;\n",
       "    }\n",
       "</style>\n",
       "<table border=\"1\" class=\"dataframe\">\n",
       "  <thead>\n",
       "    <tr style=\"text-align: right;\">\n",
       "      <th></th>\n",
       "      <th>Review</th>\n",
       "      <th>voted_up</th>\n",
       "      <th>Sentiment</th>\n",
       "    </tr>\n",
       "  </thead>\n",
       "  <tbody>\n",
       "    <tr>\n",
       "      <th>0</th>\n",
       "      <td>being killed over and over again is fun</td>\n",
       "      <td>True</td>\n",
       "      <td>Good</td>\n",
       "    </tr>\n",
       "    <tr>\n",
       "      <th>1</th>\n",
       "      <td>I write this review as I have 100% completed E...</td>\n",
       "      <td>True</td>\n",
       "      <td>Good</td>\n",
       "    </tr>\n",
       "    <tr>\n",
       "      <th>2</th>\n",
       "      <td>Fun</td>\n",
       "      <td>True</td>\n",
       "      <td>Good</td>\n",
       "    </tr>\n",
       "    <tr>\n",
       "      <th>3</th>\n",
       "      <td>pretty cool.</td>\n",
       "      <td>True</td>\n",
       "      <td>Good</td>\n",
       "    </tr>\n",
       "    <tr>\n",
       "      <th>4</th>\n",
       "      <td>AMAZINGGGGGGGGGGGGG</td>\n",
       "      <td>True</td>\n",
       "      <td>Good</td>\n",
       "    </tr>\n",
       "  </tbody>\n",
       "</table>\n",
       "</div>"
      ],
      "text/plain": [
       "                                              Review  voted_up Sentiment\n",
       "0            being killed over and over again is fun      True      Good\n",
       "1  I write this review as I have 100% completed E...      True      Good\n",
       "2                                                Fun      True      Good\n",
       "3                                       pretty cool.      True      Good\n",
       "4                                AMAZINGGGGGGGGGGGGG      True      Good"
      ]
     },
     "execution_count": 53,
     "metadata": {},
     "output_type": "execute_result"
    }
   ],
   "source": [
    "#elden ring data\n",
    "elden_ring_data = elden_ring_data[['review','voted_up']]\n",
    "elden_ring_data.rename(columns={'review':'Review'},inplace=True)\n",
    "def GetSentimentFromUpVote(up_vote):\n",
    "    if(up_vote):\n",
    "        return GOOD\n",
    "    else:\n",
    "        return BAD\n",
    "s = []\n",
    "for upvote in elden_ring_data['voted_up'].to_list():\n",
    "    s.append(GetSentimentFromUpVote(upvote))\n",
    "elden_ring_data['Sentiment'] = s\n",
    "elden_ring_data.dropna(inplace=True)\n",
    "print(\"DATA DISTRIBUTION:\")\n",
    "SENTIMENTS = elden_ring_data['Sentiment'].unique()\n",
    "for s in SENTIMENTS:\n",
    "    print(f\"{s}: {sum(1 for i in elden_ring_data['Sentiment'] if i == s)}\")\n",
    "elden_ring_data.head()"
   ]
  },
  {
   "cell_type": "markdown",
   "id": "3aebbf2d",
   "metadata": {},
   "source": [
    "# Now Lets create an SVM\n",
    "## We do this in a function so that we can reuse it later"
   ]
  },
  {
   "cell_type": "code",
   "execution_count": null,
   "id": "f19d254c",
   "metadata": {},
   "outputs": [],
   "source": [
    "def CreateSVM(df):\n",
    "    #split datasets\n",
    "    TEST_SIZE = 0.3\n",
    "    X = df['Review']\n",
    "    y = df['Sentiment'] \n",
    "    X_train, X_test, y_train, y_test = train_test_split(X, y, test_size = TEST_SIZE, random_state=1) \n",
    "    X_train.to_list()\n",
    "    X_test = X_test.to_list()\n",
    "    y_train = y_train.to_list()\n",
    "    y_test = y_test.to_list()"
   ]
  },
  {
   "cell_type": "code",
   "execution_count": 8,
   "id": "5a42e81e",
   "metadata": {},
   "outputs": [],
   "source": [
    "#split datasets\n",
    "TEST_SIZE = 0.3\n",
    "general_X = general_data['Review']\n",
    "general_y = general_data['Sentiment']\n",
    "general_X_train, general_X_test, general_y_train, general_y_test = train_test_split(general_X, general_y, test_size = TEST_SIZE, random_state=1)\n",
    "general_X_train = general_X_train.to_list()\n",
    "general_X_test = general_X_test.to_list()\n",
    "general_y_train = general_y_train.to_list()\n",
    "general_y_test = general_y_test.to_list()"
   ]
  },
  {
   "cell_type": "markdown",
   "id": "831c567b",
   "metadata": {},
   "source": [
    "# Creating svm\n",
    "#### Helpful link to understand how this works:\n",
    "- https://medium.com/@vasista/sentiment-analysis-using-svm-338d418e3ff1\n",
    "\n"
   ]
  },
  {
   "cell_type": "markdown",
   "id": "55c62874",
   "metadata": {},
   "source": [
    "## Vectorize the data\n",
    "We will be using a method called **Term Frequency and Inverse Document Frequency (TF-IDF)**. \n",
    "Here is how it works: https://medium.com/@vasista/preparing-the-text-data-with-scikit-learn-b31a3df567e\n",
    "\n",
    "#### sklearn supplies an easy way to implement this"
   ]
  },
  {
   "cell_type": "code",
   "execution_count": 9,
   "id": "642ca6a6",
   "metadata": {},
   "outputs": [],
   "source": [
    "# Create feature vectors\n",
    "vectorizer = TfidfVectorizer(min_df = 5,max_df = 0.8,sublinear_tf = True,use_idf = True)\n",
    "train_vectors = vectorizer.fit_transform(general_X_train)\n",
    "test_vectors = vectorizer.transform(general_X_test)"
   ]
  },
  {
   "cell_type": "markdown",
   "id": "d5ae51af",
   "metadata": {},
   "source": [
    "## Create a Linear SVM model"
   ]
  },
  {
   "cell_type": "code",
   "execution_count": 10,
   "id": "b7627ec4",
   "metadata": {},
   "outputs": [
    {
     "name": "stdout",
     "output_type": "stream",
     "text": [
      "training SVM...\n",
      "Trained SVM in 4.233425617218018 s\n"
     ]
    }
   ],
   "source": [
    "svm_linear=svm.SVC(kernel='linear')\n",
    "print('training SVM...')\n",
    "start_time = time.time()\n",
    "svm_linear.fit(train_vectors, general_y_train)\n",
    "end_time = time.time()\n",
    "print(f\"Trained SVM in {end_time-start_time} s\")"
   ]
  },
  {
   "cell_type": "code",
   "execution_count": 11,
   "id": "9afb0ff1",
   "metadata": {},
   "outputs": [
    {
     "name": "stdout",
     "output_type": "stream",
     "text": [
      "Testing SVM ...\n",
      "Tested SVM in 1.7265186309814453 s\n"
     ]
    }
   ],
   "source": [
    "print('Testing SVM ...')\n",
    "start_time = time.time()\n",
    "prediction = svm_linear.predict(test_vectors)\n",
    "end_time = time.time()\n",
    "print(f\"Tested SVM in {end_time-start_time} s\")"
   ]
  },
  {
   "cell_type": "markdown",
   "id": "d64fb21d",
   "metadata": {},
   "source": [
    "## Linear SVM general data results"
   ]
  },
  {
   "cell_type": "code",
   "execution_count": 12,
   "id": "0ce2b6a0",
   "metadata": {},
   "outputs": [
    {
     "name": "stdout",
     "output_type": "stream",
     "text": [
      "Bad: {'precision': 0.729903536977492, 'recall': 0.822463768115942, 'f1-score': 0.7734241908006815, 'support': 276}\n",
      "\n",
      "Good: {'precision': 0.7336956521739131, 'recall': 0.6164383561643836, 'f1-score': 0.6699751861042184, 'support': 219}\n",
      "\n",
      "accuracy: 0.7313131313131314\n",
      "\n",
      "macro avg: {'precision': 0.7317995945757025, 'recall': 0.7194510621401629, 'f1-score': 0.7216996884524499, 'support': 495}\n",
      "\n",
      "weighted avg: {'precision': 0.731581260670454, 'recall': 0.7313131313131314, 'f1-score': 0.7276558432683069, 'support': 495}\n",
      "\n"
     ]
    }
   ],
   "source": [
    "report_linear = classification_report(general_y_test, prediction,output_dict=True,zero_division=0)\n",
    "for key in report_linear.keys():\n",
    "    print(f'{key}: {report_linear[key]}\\n')\n"
   ]
  },
  {
   "cell_type": "markdown",
   "id": "3eb6f764",
   "metadata": {},
   "source": [
    "# Test SVM on Elden Ring Reviews"
   ]
  },
  {
   "cell_type": "code",
   "execution_count": 13,
   "id": "8b075d1e",
   "metadata": {},
   "outputs": [
    {
     "data": {
      "text/html": [
       "<div>\n",
       "<style scoped>\n",
       "    .dataframe tbody tr th:only-of-type {\n",
       "        vertical-align: middle;\n",
       "    }\n",
       "\n",
       "    .dataframe tbody tr th {\n",
       "        vertical-align: top;\n",
       "    }\n",
       "\n",
       "    .dataframe thead th {\n",
       "        text-align: right;\n",
       "    }\n",
       "</style>\n",
       "<table border=\"1\" class=\"dataframe\">\n",
       "  <thead>\n",
       "    <tr style=\"text-align: right;\">\n",
       "      <th></th>\n",
       "      <th>review</th>\n",
       "      <th>voted_up</th>\n",
       "      <th>Sentiment</th>\n",
       "    </tr>\n",
       "  </thead>\n",
       "  <tbody>\n",
       "    <tr>\n",
       "      <th>0</th>\n",
       "      <td>being killed over and over again is fun</td>\n",
       "      <td>True</td>\n",
       "      <td>Good</td>\n",
       "    </tr>\n",
       "    <tr>\n",
       "      <th>1</th>\n",
       "      <td>I write this review as I have 100% completed E...</td>\n",
       "      <td>True</td>\n",
       "      <td>Good</td>\n",
       "    </tr>\n",
       "    <tr>\n",
       "      <th>2</th>\n",
       "      <td>Fun</td>\n",
       "      <td>True</td>\n",
       "      <td>Good</td>\n",
       "    </tr>\n",
       "    <tr>\n",
       "      <th>3</th>\n",
       "      <td>pretty cool.</td>\n",
       "      <td>True</td>\n",
       "      <td>Good</td>\n",
       "    </tr>\n",
       "    <tr>\n",
       "      <th>4</th>\n",
       "      <td>AMAZINGGGGGGGGGGGGG</td>\n",
       "      <td>True</td>\n",
       "      <td>Good</td>\n",
       "    </tr>\n",
       "  </tbody>\n",
       "</table>\n",
       "</div>"
      ],
      "text/plain": [
       "                                              review  voted_up Sentiment\n",
       "0            being killed over and over again is fun      True      Good\n",
       "1  I write this review as I have 100% completed E...      True      Good\n",
       "2                                                Fun      True      Good\n",
       "3                                       pretty cool.      True      Good\n",
       "4                                AMAZINGGGGGGGGGGGGG      True      Good"
      ]
     },
     "execution_count": 13,
     "metadata": {},
     "output_type": "execute_result"
    }
   ],
   "source": [
    "elden_ring_data.head()"
   ]
  },
  {
   "cell_type": "code",
   "execution_count": 14,
   "id": "7b5b66d9",
   "metadata": {},
   "outputs": [],
   "source": [
    "# Create vectors\n",
    "elden_ring_test_X = elden_ring_data['review'].to_list()\n",
    "elden_ring_test_y = elden_ring_data['Sentiment'].to_list()\n",
    "elden_ring_vectors = vectorizer.transform(elden_ring_test_X)"
   ]
  },
  {
   "cell_type": "code",
   "execution_count": 15,
   "id": "7cff9a9f",
   "metadata": {},
   "outputs": [
    {
     "name": "stdout",
     "output_type": "stream",
     "text": [
      "Testing SVM on Elden Ring Reviews...\n",
      "Tested SVM in 5.646575689315796 s\n"
     ]
    }
   ],
   "source": [
    "# Test on elden ring reviews\n",
    "print('Testing SVM on Elden Ring Reviews...')\n",
    "start_time = time.time()\n",
    "prediction = svm_linear.predict(elden_ring_vectors)\n",
    "end_time = time.time()\n",
    "print(f\"Tested SVM in {end_time-start_time} s\")"
   ]
  },
  {
   "cell_type": "markdown",
   "id": "78d30cb3",
   "metadata": {},
   "source": [
    "## Elden ring SVM results"
   ]
  },
  {
   "cell_type": "code",
   "execution_count": 16,
   "id": "d9697e70",
   "metadata": {},
   "outputs": [
    {
     "name": "stdout",
     "output_type": "stream",
     "text": [
      "Bad: {'precision': 0.06591380502419912, 'recall': 0.9678510998307953, 'f1-score': 0.12342215988779803, 'support': 591}\n",
      "\n",
      "Good: {'precision': 0.9825206991720331, 'recall': 0.11641595814257685, 'f1-score': 0.20816684533671181, 'support': 9174}\n",
      "\n",
      "accuracy: 0.1679467485919099\n",
      "\n",
      "macro avg: {'precision': 0.5242172520981161, 'recall': 0.5421335289866861, 'f1-score': 0.16579450261225492, 'support': 9765}\n",
      "\n",
      "weighted avg: {'precision': 0.9270455661007202, 'recall': 0.1679467485919099, 'f1-score': 0.20303790431261473, 'support': 9765}\n",
      "\n"
     ]
    }
   ],
   "source": [
    "report_elden_ring = classification_report(elden_ring_test_y, prediction,output_dict=True,zero_division=0)\n",
    "for key in report_elden_ring.keys():\n",
    "    print(f'{key}: {report_elden_ring[key]}\\n')\n"
   ]
  },
  {
   "cell_type": "markdown",
   "id": "fd3925db",
   "metadata": {},
   "source": [
    "# Now lets do the opposite. Train on Elden Ring and Test on General"
   ]
  },
  {
   "cell_type": "code",
   "execution_count": 29,
   "id": "73d135c9",
   "metadata": {},
   "outputs": [
    {
     "ename": "AttributeError",
     "evalue": "'list' object has no attribute 'to_list'",
     "output_type": "error",
     "traceback": [
      "\u001b[1;31m---------------------------------------------------------------------------\u001b[0m",
      "\u001b[1;31mAttributeError\u001b[0m                            Traceback (most recent call last)",
      "Cell \u001b[1;32mIn[29], line 6\u001b[0m\n\u001b[0;32m      4\u001b[0m elden_ring_SVM_y \u001b[38;5;241m=\u001b[39m elden_ring_data[\u001b[38;5;124m'\u001b[39m\u001b[38;5;124mSentiment\u001b[39m\u001b[38;5;124m'\u001b[39m]\n\u001b[0;32m      5\u001b[0m elden_ring_SVM_X_train, elden_ring_SVM_X_test, elden_ring_SVM_y_train, elden_ring_SVM_y_test \u001b[38;5;241m=\u001b[39m train_test_split(elden_ring_SVM_X, elden_ring_SVM_y, test_size \u001b[38;5;241m=\u001b[39m TEST_SIZE, random_state\u001b[38;5;241m=\u001b[39m\u001b[38;5;241m1\u001b[39m)\n\u001b[1;32m----> 6\u001b[0m elden_ring_SVM_X_train \u001b[38;5;241m=\u001b[39m elden_ring_X_train\u001b[38;5;241m.\u001b[39mto_list()\n\u001b[0;32m      7\u001b[0m elden_ring_SVM_X_test \u001b[38;5;241m=\u001b[39m elden_ring_X_test\u001b[38;5;241m.\u001b[39mto_list()\n\u001b[0;32m      8\u001b[0m elden_ring_SVM_y_train \u001b[38;5;241m=\u001b[39m elden_ring_y_train\u001b[38;5;241m.\u001b[39mto_list()\n",
      "\u001b[1;31mAttributeError\u001b[0m: 'list' object has no attribute 'to_list'"
     ]
    }
   ],
   "source": [
    "#split dataset\n",
    "TEST_SIZE = 0.3\n",
    "elden_ring_SVM_X = elden_ring_data['review']\n",
    "elden_ring_SVM_y = elden_ring_data['Sentiment']\n",
    "elden_ring_SVM_X_train, elden_ring_SVM_X_test, elden_ring_SVM_y_train, elden_ring_SVM_y_test = train_test_split(elden_ring_SVM_X, elden_ring_SVM_y, test_size = TEST_SIZE, random_state=1)\n",
    "elden_ring_SVM_X_train = elden_ring_X_train.to_list()\n",
    "elden_ring_SVM_X_test = elden_ring_X_test.to_list()\n",
    "elden_ring_SVM_y_train = elden_ring_y_train.to_list()\n",
    "elden_ring_SVM_y_test = elden_ring_y_test.to_list()"
   ]
  },
  {
   "cell_type": "markdown",
   "id": "919161f9",
   "metadata": {},
   "source": [
    "## Vectorize the data again"
   ]
  },
  {
   "cell_type": "code",
   "execution_count": 18,
   "id": "eac5e253",
   "metadata": {},
   "outputs": [],
   "source": [
    "# Create feature vectors\n",
    "vectorizer = TfidfVectorizer(min_df = 5,max_df = 0.8,sublinear_tf = True,use_idf = True)\n",
    "train_vectors = vectorizer.fit_transform(general_X_train)\n",
    "test_vectors = vectorizer.transform(general_X_test)"
   ]
  },
  {
   "cell_type": "markdown",
   "id": "32dcb13a",
   "metadata": {},
   "source": [
    "## Create a Linear SVM model"
   ]
  },
  {
   "cell_type": "code",
   "execution_count": 19,
   "id": "a69f3e6d",
   "metadata": {},
   "outputs": [
    {
     "name": "stdout",
     "output_type": "stream",
     "text": [
      "training SVM...\n",
      "Trained SVM in 4.2284369468688965 s\n"
     ]
    }
   ],
   "source": [
    "svm_linear=svm.SVC(kernel='linear')\n",
    "print('training SVM...')\n",
    "start_time = time.time()\n",
    "svm_linear.fit(train_vectors, general_y_train)\n",
    "end_time = time.time()\n",
    "print(f\"Trained SVM in {end_time-start_time} s\")"
   ]
  },
  {
   "cell_type": "code",
   "execution_count": 20,
   "id": "5dc90f88",
   "metadata": {},
   "outputs": [
    {
     "name": "stdout",
     "output_type": "stream",
     "text": [
      "Testing SVM ...\n",
      "Tested SVM in 1.7260348796844482 s\n"
     ]
    }
   ],
   "source": [
    "print('Testing SVM ...')\n",
    "start_time = time.time()\n",
    "prediction = svm_linear.predict(test_vectors)\n",
    "end_time = time.time()\n",
    "print(f\"Tested SVM in {end_time-start_time} s\")"
   ]
  },
  {
   "cell_type": "markdown",
   "id": "7c399f19",
   "metadata": {},
   "source": [
    "# Lets test it on the test Elden Ring data"
   ]
  },
  {
   "cell_type": "code",
   "execution_count": 25,
   "id": "a713162c",
   "metadata": {},
   "outputs": [
    {
     "name": "stdout",
     "output_type": "stream",
     "text": [
      "Testing SVM on Elden Ring Reviews...\n",
      "Tested SVM in 1.7238216400146484 s\n"
     ]
    }
   ],
   "source": [
    "# Test on elden ring reviews\n",
    "print('Testing SVM on Elden Ring Reviews...')\n",
    "start_time = time.time()\n",
    "prediction = svm_linear.predict(test_vectors)\n",
    "end_time = time.time()\n",
    "print(f\"Tested SVM in {end_time-start_time} s\")"
   ]
  },
  {
   "cell_type": "markdown",
   "id": "cce9cdf3",
   "metadata": {},
   "source": [
    "## Results"
   ]
  },
  {
   "cell_type": "code",
   "execution_count": 26,
   "id": "f9b16a8e",
   "metadata": {},
   "outputs": [
    {
     "ename": "ValueError",
     "evalue": "Found input variables with inconsistent numbers of samples: [2930, 495]",
     "output_type": "error",
     "traceback": [
      "\u001b[1;31m---------------------------------------------------------------------------\u001b[0m",
      "\u001b[1;31mValueError\u001b[0m                                Traceback (most recent call last)",
      "Cell \u001b[1;32mIn[26], line 1\u001b[0m\n\u001b[1;32m----> 1\u001b[0m report_elden_ring \u001b[38;5;241m=\u001b[39m classification_report(elden_ring_y_test, prediction, output_dict\u001b[38;5;241m=\u001b[39m\u001b[38;5;28;01mTrue\u001b[39;00m,zero_division\u001b[38;5;241m=\u001b[39m\u001b[38;5;241m0\u001b[39m)\n\u001b[0;32m      2\u001b[0m \u001b[38;5;28;01mfor\u001b[39;00m key \u001b[38;5;129;01min\u001b[39;00m report_elden_ring\u001b[38;5;241m.\u001b[39mkeys():\n\u001b[0;32m      3\u001b[0m     \u001b[38;5;28mprint\u001b[39m(\u001b[38;5;124mf\u001b[39m\u001b[38;5;124m'\u001b[39m\u001b[38;5;132;01m{\u001b[39;00mkey\u001b[38;5;132;01m}\u001b[39;00m\u001b[38;5;124m: \u001b[39m\u001b[38;5;132;01m{\u001b[39;00mreport_elden_ring[key]\u001b[38;5;132;01m}\u001b[39;00m\u001b[38;5;130;01m\\n\u001b[39;00m\u001b[38;5;124m'\u001b[39m)\n",
      "File \u001b[1;32mC:\\Programming\\Anaconda3\\envs\\CS_4630_Project\\Lib\\site-packages\\sklearn\\metrics\\_classification.py:2310\u001b[0m, in \u001b[0;36mclassification_report\u001b[1;34m(y_true, y_pred, labels, target_names, sample_weight, digits, output_dict, zero_division)\u001b[0m\n\u001b[0;32m   2195\u001b[0m \u001b[38;5;28;01mdef\u001b[39;00m \u001b[38;5;21mclassification_report\u001b[39m(\n\u001b[0;32m   2196\u001b[0m     y_true,\n\u001b[0;32m   2197\u001b[0m     y_pred,\n\u001b[1;32m   (...)\u001b[0m\n\u001b[0;32m   2204\u001b[0m     zero_division\u001b[38;5;241m=\u001b[39m\u001b[38;5;124m\"\u001b[39m\u001b[38;5;124mwarn\u001b[39m\u001b[38;5;124m\"\u001b[39m,\n\u001b[0;32m   2205\u001b[0m ):\n\u001b[0;32m   2206\u001b[0m     \u001b[38;5;124;03m\"\"\"Build a text report showing the main classification metrics.\u001b[39;00m\n\u001b[0;32m   2207\u001b[0m \n\u001b[0;32m   2208\u001b[0m \u001b[38;5;124;03m    Read more in the :ref:`User Guide <classification_report>`.\u001b[39;00m\n\u001b[1;32m   (...)\u001b[0m\n\u001b[0;32m   2307\u001b[0m \u001b[38;5;124;03m    <BLANKLINE>\u001b[39;00m\n\u001b[0;32m   2308\u001b[0m \u001b[38;5;124;03m    \"\"\"\u001b[39;00m\n\u001b[1;32m-> 2310\u001b[0m     y_type, y_true, y_pred \u001b[38;5;241m=\u001b[39m _check_targets(y_true, y_pred)\n\u001b[0;32m   2312\u001b[0m     \u001b[38;5;28;01mif\u001b[39;00m labels \u001b[38;5;129;01mis\u001b[39;00m \u001b[38;5;28;01mNone\u001b[39;00m:\n\u001b[0;32m   2313\u001b[0m         labels \u001b[38;5;241m=\u001b[39m unique_labels(y_true, y_pred)\n",
      "File \u001b[1;32mC:\\Programming\\Anaconda3\\envs\\CS_4630_Project\\Lib\\site-packages\\sklearn\\metrics\\_classification.py:86\u001b[0m, in \u001b[0;36m_check_targets\u001b[1;34m(y_true, y_pred)\u001b[0m\n\u001b[0;32m     59\u001b[0m \u001b[38;5;28;01mdef\u001b[39;00m \u001b[38;5;21m_check_targets\u001b[39m(y_true, y_pred):\n\u001b[0;32m     60\u001b[0m     \u001b[38;5;124;03m\"\"\"Check that y_true and y_pred belong to the same classification task.\u001b[39;00m\n\u001b[0;32m     61\u001b[0m \n\u001b[0;32m     62\u001b[0m \u001b[38;5;124;03m    This converts multiclass or binary types to a common shape, and raises a\u001b[39;00m\n\u001b[1;32m   (...)\u001b[0m\n\u001b[0;32m     84\u001b[0m \u001b[38;5;124;03m    y_pred : array or indicator matrix\u001b[39;00m\n\u001b[0;32m     85\u001b[0m \u001b[38;5;124;03m    \"\"\"\u001b[39;00m\n\u001b[1;32m---> 86\u001b[0m     check_consistent_length(y_true, y_pred)\n\u001b[0;32m     87\u001b[0m     type_true \u001b[38;5;241m=\u001b[39m type_of_target(y_true, input_name\u001b[38;5;241m=\u001b[39m\u001b[38;5;124m\"\u001b[39m\u001b[38;5;124my_true\u001b[39m\u001b[38;5;124m\"\u001b[39m)\n\u001b[0;32m     88\u001b[0m     type_pred \u001b[38;5;241m=\u001b[39m type_of_target(y_pred, input_name\u001b[38;5;241m=\u001b[39m\u001b[38;5;124m\"\u001b[39m\u001b[38;5;124my_pred\u001b[39m\u001b[38;5;124m\"\u001b[39m)\n",
      "File \u001b[1;32mC:\\Programming\\Anaconda3\\envs\\CS_4630_Project\\Lib\\site-packages\\sklearn\\utils\\validation.py:397\u001b[0m, in \u001b[0;36mcheck_consistent_length\u001b[1;34m(*arrays)\u001b[0m\n\u001b[0;32m    395\u001b[0m uniques \u001b[38;5;241m=\u001b[39m np\u001b[38;5;241m.\u001b[39munique(lengths)\n\u001b[0;32m    396\u001b[0m \u001b[38;5;28;01mif\u001b[39;00m \u001b[38;5;28mlen\u001b[39m(uniques) \u001b[38;5;241m>\u001b[39m \u001b[38;5;241m1\u001b[39m:\n\u001b[1;32m--> 397\u001b[0m     \u001b[38;5;28;01mraise\u001b[39;00m \u001b[38;5;167;01mValueError\u001b[39;00m(\n\u001b[0;32m    398\u001b[0m         \u001b[38;5;124m\"\u001b[39m\u001b[38;5;124mFound input variables with inconsistent numbers of samples: \u001b[39m\u001b[38;5;132;01m%r\u001b[39;00m\u001b[38;5;124m\"\u001b[39m\n\u001b[0;32m    399\u001b[0m         \u001b[38;5;241m%\u001b[39m [\u001b[38;5;28mint\u001b[39m(l) \u001b[38;5;28;01mfor\u001b[39;00m l \u001b[38;5;129;01min\u001b[39;00m lengths]\n\u001b[0;32m    400\u001b[0m     )\n",
      "\u001b[1;31mValueError\u001b[0m: Found input variables with inconsistent numbers of samples: [2930, 495]"
     ]
    }
   ],
   "source": [
    "report_elden_ring = classification_report(elden_ring_y_test, prediction, output_dict=True,zero_division=0)\n",
    "for key in report_elden_ring.keys():\n",
    "    print(f'{key}: {report_elden_ring[key]}\\n')\n"
   ]
  }
 ],
 "metadata": {
  "kernelspec": {
   "display_name": "Python 3 (ipykernel)",
   "language": "python",
   "name": "python3"
  },
  "language_info": {
   "codemirror_mode": {
    "name": "ipython",
    "version": 3
   },
   "file_extension": ".py",
   "mimetype": "text/x-python",
   "name": "python",
   "nbconvert_exporter": "python",
   "pygments_lexer": "ipython3",
   "version": "3.11.2"
  }
 },
 "nbformat": 4,
 "nbformat_minor": 5
}
