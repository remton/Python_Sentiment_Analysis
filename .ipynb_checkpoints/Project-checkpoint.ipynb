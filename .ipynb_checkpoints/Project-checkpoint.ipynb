{
 "cells": [
  {
   "cell_type": "code",
   "execution_count": 1,
   "id": "d21c45e2",
   "metadata": {},
   "outputs": [],
   "source": [
    "#pip install scikit-learn\n",
    "#pip install pandas\n",
    "\n",
    "# Main imports pandas and sklearn\n",
    "import pandas as pd\n",
    "from sklearn.model_selection import train_test_split\n",
    "from sklearn import metrics\n",
    "from sklearn.feature_extraction.text import TfidfVectorizer\n",
    "from sklearn import svm\n",
    "from sklearn.metrics import classification_report\n",
    "from sklearn.tree import DecisionTreeClassifier\n",
    "from sklearn import tree\n",
    "\n",
    "# We need to do some web scraping to get the review text\n",
    "import urllib.request\n",
    "from bs4 import BeautifulSoup\n",
    "\n",
    "#Other imports\n",
    "import time\n",
    "import sys\n",
    "from os import system\n",
    "from IPython.display import clear_output"
   ]
  },
  {
   "cell_type": "markdown",
   "id": "021a83bc",
   "metadata": {},
   "source": [
    "# Load in data\n",
    "### There are a few steps to getting clean data\n",
    "- Read data from kaggle into dataframes\n",
    "- Get rid of unecessary features of the data\n",
    "- (For general data) get the review text from the web\n",
    "- Clean data using dropna"
   ]
  },
  {
   "cell_type": "code",
   "execution_count": 2,
   "id": "257f8be9",
   "metadata": {},
   "outputs": [],
   "source": [
    "# Lets define our file paths for reading in data\n",
    "# download dataset at: https://www.kaggle.com/datasets/joyshil0599/multi-decade-video-game-review-dataset\n",
    "GENERAL_DATASET_PATH = \"data/general_reviews.csv\"\n",
    "# download dataset at: https://www.kaggle.com/datasets/noahx1/elden-ring-steam-reviews\n",
    "ELDEN_RING_DATASET_PATH = \"data/elden_ring_steam_reviews.csv\"\n",
    "# Path to save cleaned general data file\n",
    "GENERAL_CLEAN_DATA_PATH = 'data/general_data_clean.csv'\n",
    "\n",
    "#load in dataset\n",
    "# We have two datasets:\n",
    "# one using gamespot reviews (general_data)\n",
    "# the other Elden Ring Steam reviews (elden_ring_data)\n",
    "general_data = pd.read_csv(GENERAL_DATASET_PATH)\n",
    "elden_ring_data = pd.read_csv(ELDEN_RING_DATASET_PATH)\n"
   ]
  },
  {
   "cell_type": "code",
   "execution_count": 3,
   "id": "a5fd8eb2",
   "metadata": {},
   "outputs": [
    {
     "data": {
      "text/html": [
       "<div>\n",
       "<style scoped>\n",
       "    .dataframe tbody tr th:only-of-type {\n",
       "        vertical-align: middle;\n",
       "    }\n",
       "\n",
       "    .dataframe tbody tr th {\n",
       "        vertical-align: top;\n",
       "    }\n",
       "\n",
       "    .dataframe thead th {\n",
       "        text-align: right;\n",
       "    }\n",
       "</style>\n",
       "<table border=\"1\" class=\"dataframe\">\n",
       "  <thead>\n",
       "    <tr style=\"text-align: right;\">\n",
       "      <th></th>\n",
       "      <th>Review link</th>\n",
       "      <th>Rating/10</th>\n",
       "    </tr>\n",
       "  </thead>\n",
       "  <tbody>\n",
       "    <tr>\n",
       "      <th>0</th>\n",
       "      <td>https://www.gamespot.com/reviews/tales-of-symp...</td>\n",
       "      <td>5.0</td>\n",
       "    </tr>\n",
       "    <tr>\n",
       "      <th>1</th>\n",
       "      <td>https://www.gamespot.com/reviews/kirbys-return...</td>\n",
       "      <td>7.0</td>\n",
       "    </tr>\n",
       "    <tr>\n",
       "      <th>2</th>\n",
       "      <td>https://www.gamespot.com/reviews/hogwarts-lega...</td>\n",
       "      <td>6.0</td>\n",
       "    </tr>\n",
       "    <tr>\n",
       "      <th>3</th>\n",
       "      <td>https://www.gamespot.com/reviews/atomic-heart-...</td>\n",
       "      <td>6.0</td>\n",
       "    </tr>\n",
       "    <tr>\n",
       "      <th>4</th>\n",
       "      <td>https://www.gamespot.com/reviews/like-a-dragon...</td>\n",
       "      <td>8.0</td>\n",
       "    </tr>\n",
       "  </tbody>\n",
       "</table>\n",
       "</div>"
      ],
      "text/plain": [
       "                                         Review link  Rating/10\n",
       "0  https://www.gamespot.com/reviews/tales-of-symp...        5.0\n",
       "1  https://www.gamespot.com/reviews/kirbys-return...        7.0\n",
       "2  https://www.gamespot.com/reviews/hogwarts-lega...        6.0\n",
       "3  https://www.gamespot.com/reviews/atomic-heart-...        6.0\n",
       "4  https://www.gamespot.com/reviews/like-a-dragon...        8.0"
      ]
     },
     "execution_count": 3,
     "metadata": {},
     "output_type": "execute_result"
    }
   ],
   "source": [
    "# Clean and format General Data\n",
    "# Lets only keep the columns we want\n",
    "general_data = general_data[['Review link','Rating/10']]\n",
    "general_data.head()"
   ]
  },
  {
   "cell_type": "code",
   "execution_count": 4,
   "id": "e6c89124",
   "metadata": {},
   "outputs": [
    {
     "name": "stdout",
     "output_type": "stream",
     "text": [
      "DATA DISTRIBUTION:\n",
      "Bad: 1984\n",
      "Good: 10608\n"
     ]
    },
    {
     "data": {
      "text/html": [
       "<div>\n",
       "<style scoped>\n",
       "    .dataframe tbody tr th:only-of-type {\n",
       "        vertical-align: middle;\n",
       "    }\n",
       "\n",
       "    .dataframe tbody tr th {\n",
       "        vertical-align: top;\n",
       "    }\n",
       "\n",
       "    .dataframe thead th {\n",
       "        text-align: right;\n",
       "    }\n",
       "</style>\n",
       "<table border=\"1\" class=\"dataframe\">\n",
       "  <thead>\n",
       "    <tr style=\"text-align: right;\">\n",
       "      <th></th>\n",
       "      <th>Review link</th>\n",
       "      <th>Rating/10</th>\n",
       "      <th>Sentiment</th>\n",
       "    </tr>\n",
       "  </thead>\n",
       "  <tbody>\n",
       "    <tr>\n",
       "      <th>0</th>\n",
       "      <td>https://www.gamespot.com/reviews/tales-of-symp...</td>\n",
       "      <td>5.0</td>\n",
       "      <td>Bad</td>\n",
       "    </tr>\n",
       "    <tr>\n",
       "      <th>1</th>\n",
       "      <td>https://www.gamespot.com/reviews/kirbys-return...</td>\n",
       "      <td>7.0</td>\n",
       "      <td>Good</td>\n",
       "    </tr>\n",
       "    <tr>\n",
       "      <th>2</th>\n",
       "      <td>https://www.gamespot.com/reviews/hogwarts-lega...</td>\n",
       "      <td>6.0</td>\n",
       "      <td>Good</td>\n",
       "    </tr>\n",
       "    <tr>\n",
       "      <th>3</th>\n",
       "      <td>https://www.gamespot.com/reviews/atomic-heart-...</td>\n",
       "      <td>6.0</td>\n",
       "      <td>Good</td>\n",
       "    </tr>\n",
       "    <tr>\n",
       "      <th>4</th>\n",
       "      <td>https://www.gamespot.com/reviews/like-a-dragon...</td>\n",
       "      <td>8.0</td>\n",
       "      <td>Good</td>\n",
       "    </tr>\n",
       "  </tbody>\n",
       "</table>\n",
       "</div>"
      ],
      "text/plain": [
       "                                         Review link  Rating/10 Sentiment\n",
       "0  https://www.gamespot.com/reviews/tales-of-symp...        5.0       Bad\n",
       "1  https://www.gamespot.com/reviews/kirbys-return...        7.0      Good\n",
       "2  https://www.gamespot.com/reviews/hogwarts-lega...        6.0      Good\n",
       "3  https://www.gamespot.com/reviews/atomic-heart-...        6.0      Good\n",
       "4  https://www.gamespot.com/reviews/like-a-dragon...        8.0      Good"
      ]
     },
     "execution_count": 4,
     "metadata": {},
     "output_type": "execute_result"
    }
   ],
   "source": [
    "# We define 3 sentiments to classify\n",
    "GOOD = 'Good'\n",
    "NUETRAL = 'Nuetral'\n",
    "BAD = 'Bad'\n",
    "\n",
    "# General data\n",
    "# I tried to choose values for rating that made sense and split the data kind of evenly\n",
    "def GetSentiment(rating):\n",
    "    if(rating is None):\n",
    "        return None\n",
    "    if(rating > 5):\n",
    "        return GOOD\n",
    "#     if(rating > 5):\n",
    "#         return NUETRAL\n",
    "    if(rating > 0):\n",
    "        return BAD\n",
    "s = []\n",
    "for rating in general_data['Rating/10'].to_list():\n",
    "    s.append(GetSentiment(rating))\n",
    "general_data['Sentiment'] = s\n",
    "general_data.dropna(inplace=True)\n",
    "print(\"DATA DISTRIBUTION:\")\n",
    "SENTIMENTS = general_data['Sentiment'].unique()\n",
    "for s in SENTIMENTS:\n",
    "    print(f\"{s}: {sum(1 for i in general_data['Sentiment'] if i == s)}\")\n",
    "general_data.head()"
   ]
  },
  {
   "cell_type": "code",
   "execution_count": 5,
   "id": "70ae9564",
   "metadata": {},
   "outputs": [],
   "source": [
    "# Now lets define how to get the text of the reviews from the web\n",
    "def GetReviewsFromWeb():\n",
    "    num_processed = 1\n",
    "    prev_time = time.time()\n",
    "    num_links = len(general_data.index)\n",
    "    check_interval = 5\n",
    "    reviews = []\n",
    "    failed_links = []\n",
    "    for link in general_data['Review link']:\n",
    "        # Try to get the review text\n",
    "        try:\n",
    "            page = urllib.request.urlopen(link).read()\n",
    "            page = BeautifulSoup(page)\n",
    "            review = \"\"\n",
    "            body = page.find(class_=\"article-body typography-format\")\n",
    "            paragraphs = body.find_all(\"p\")\n",
    "            if(len(paragraphs)==0):\n",
    "                raise Exception('NO REVIEW TEXT FOUND')\n",
    "            for p in paragraphs:\n",
    "                review+=p.text+\" \"\n",
    "            reviews.append(review)\n",
    "        # If we could not get the review text\n",
    "        except:\n",
    "            reviews.append(None)\n",
    "            failed_links.append(link)\n",
    "        # Display progress\n",
    "        num_processed = num_processed + 1\n",
    "        if(num_processed % check_interval == 0):\n",
    "            prediction = (time.time() - prev_time)/(check_interval) * (num_links-len(reviews))\n",
    "            prev_time = time.time()\n",
    "            system('cls')\n",
    "            clear_output(wait=True)\n",
    "            print(f\"Reviews lost: {len(failed_links)}\")\n",
    "            print(f\"processed: {num_processed} / {num_links}\")\n",
    "            print(f\"Time left: {int(prediction)} s\")  \n",
    "    #Update dataframe and write to file\n",
    "    general_data['Review'] = reviews\n",
    "    # Now lets finish cleaning the data by dropping any rows where we do not have a review\n",
    "    old_size = general_data.shape\n",
    "    general_data.dropna(inplace=True)\n",
    "    general_data.to_csv(GENERAL_CLEAN_DATA_PATH)\n",
    "    new_size = general_data.shape\n",
    "    print(\"Dropping invalid reviews.\")\n",
    "    print(f\"Old count: {old_size[0]}\")\n",
    "    print(f\"New count: {new_size[0]}\")\n",
    "    print(f\"Removed {old_size[0]-new_size[0]} reviews.\")"
   ]
  },
  {
   "cell_type": "code",
   "execution_count": 6,
   "id": "001e240a",
   "metadata": {},
   "outputs": [],
   "source": [
    "# If we don't already have the clean data we need to get it from the web\n",
    "file_found = True\n",
    "try:\n",
    "    general_data = pd.read_csv(GENERAL_CLEAN_DATA_PATH)\n",
    "except:\n",
    "    file_found = False\n",
    "if(not file_found):\n",
    "    GetReviewsFromWeb()\n"
   ]
  },
  {
   "cell_type": "code",
   "execution_count": 7,
   "id": "5a42e81e",
   "metadata": {},
   "outputs": [],
   "source": [
    "#split datasets\n",
    "TEST_SIZE = 0.3\n",
    "general_X = general_data['Review']\n",
    "general_y = general_data['Sentiment']\n",
    "general_X_train, general_X_test, general_y_train, general_y_test = train_test_split(general_X, general_y, test_size = TEST_SIZE, random_state=1)\n",
    "general_X_train = general_X_train.to_list()\n",
    "general_X_test = general_X_test.to_list()\n",
    "general_y_train = general_y_train.to_list()\n",
    "general_y_test = general_y_test.to_list()"
   ]
  },
  {
   "cell_type": "markdown",
   "id": "831c567b",
   "metadata": {},
   "source": [
    "# Creating svm\n",
    "#### Helpful link to understand how this works:\n",
    "- https://medium.com/@vasista/sentiment-analysis-using-svm-338d418e3ff1\n",
    "\n"
   ]
  },
  {
   "cell_type": "markdown",
   "id": "55c62874",
   "metadata": {},
   "source": [
    "## Vectorize the data\n",
    "We will be using a method called **Term Frequency and Inverse Document Frequency (TF-IDF)**. \n",
    "Here is how it works: https://medium.com/@vasista/preparing-the-text-data-with-scikit-learn-b31a3df567e\n",
    "\n",
    "#### sklearn supplies an easy way to implement this"
   ]
  },
  {
   "cell_type": "code",
   "execution_count": 8,
   "id": "642ca6a6",
   "metadata": {},
   "outputs": [],
   "source": [
    "# Create feature vectors\n",
    "vectorizer = TfidfVectorizer(min_df = 5,max_df = 0.8,sublinear_tf = True,use_idf = True)\n",
    "train_vectors = vectorizer.fit_transform(general_X_train)\n",
    "test_vectors = vectorizer.transform(general_X_test)"
   ]
  },
  {
   "cell_type": "markdown",
   "id": "d5ae51af",
   "metadata": {},
   "source": [
    "## Create a Linear SVM model"
   ]
  },
  {
   "cell_type": "code",
   "execution_count": 9,
   "id": "b7627ec4",
   "metadata": {},
   "outputs": [
    {
     "name": "stdout",
     "output_type": "stream",
     "text": [
      "training SVM...\n",
      "Trained SVM in 9.3456289768219 s\n"
     ]
    }
   ],
   "source": [
    "svm_linear=svm.SVC(kernel='linear')\n",
    "print('training SVM...')\n",
    "start_time = time.time()\n",
    "svm_linear.fit(train_vectors, general_y_train)\n",
    "end_time = time.time()\n",
    "print(f\"Trained SVM in {end_time-start_time} s\")"
   ]
  },
  {
   "cell_type": "code",
   "execution_count": 10,
   "id": "9afb0ff1",
   "metadata": {},
   "outputs": [
    {
     "name": "stdout",
     "output_type": "stream",
     "text": [
      "Testing SVM ...\n",
      "Tested SVM in 3.81997013092041 s\n"
     ]
    }
   ],
   "source": [
    "print('Testing SVM ...')\n",
    "start_time = time.time()\n",
    "prediction = svm_linear.predict(test_vectors)\n",
    "end_time = time.time()\n",
    "print(f\"Tested SVM in {end_time-start_time} s\")"
   ]
  },
  {
   "cell_type": "markdown",
   "id": "845b576f",
   "metadata": {},
   "source": [
    "## Linear SVM general data results"
   ]
  },
  {
   "cell_type": "code",
   "execution_count": 11,
   "id": "0ce2b6a0",
   "metadata": {},
   "outputs": [
    {
     "name": "stdout",
     "output_type": "stream",
     "text": [
      "Bad: {'precision': 0.729903536977492, 'recall': 0.822463768115942, 'f1-score': 0.7734241908006815, 'support': 276}\n",
      "\n",
      "Good: {'precision': 0.7336956521739131, 'recall': 0.6164383561643836, 'f1-score': 0.6699751861042184, 'support': 219}\n",
      "\n",
      "accuracy: 0.7313131313131314\n",
      "\n",
      "macro avg: {'precision': 0.7317995945757025, 'recall': 0.7194510621401629, 'f1-score': 0.7216996884524499, 'support': 495}\n",
      "\n",
      "weighted avg: {'precision': 0.731581260670454, 'recall': 0.7313131313131314, 'f1-score': 0.7276558432683069, 'support': 495}\n",
      "\n"
     ]
    }
   ],
   "source": [
    "report_linear = classification_report(general_y_test, prediction,output_dict=True,zero_division=0)\n",
    "for key in report_linear.keys():\n",
    "    print(f'{key}: {report_linear[key]}\\n')\n"
   ]
  },
  {
   "cell_type": "markdown",
   "id": "b03a23b2",
   "metadata": {},
   "source": [
    " # Create a Decision tree model"
   ]
  },
  {
   "cell_type": "code",
   "execution_count": 12,
   "id": "86ff3810",
   "metadata": {},
   "outputs": [
    {
     "name": "stdout",
     "output_type": "stream",
     "text": [
      "training Decision Tree...\n",
      "Trained Decision Tree in 0.24613380432128906 s\n"
     ]
    }
   ],
   "source": [
    "# #Lets make a descision tree\n",
    "TREE_DEPTH = 2\n",
    "dtc = DecisionTreeClassifier(max_depth = TREE_DEPTH)\n",
    "\n",
    "print('training Decision Tree...')\n",
    "start_time = time.time()\n",
    "dtc.fit(train_vectors, general_y_train)\n",
    "end_time = time.time()\n",
    "print(f\"Trained Decision Tree in {end_time-start_time} s\")"
   ]
  },
  {
   "cell_type": "code",
   "execution_count": 13,
   "id": "522ab409",
   "metadata": {},
   "outputs": [
    {
     "name": "stdout",
     "output_type": "stream",
     "text": [
      "Testing Decision Tree ...\n",
      "Tested Decision Tree in 0.00400090217590332 s\n"
     ]
    }
   ],
   "source": [
    "print('Testing Decision Tree ...')\n",
    "start_time = time.time()\n",
    "prediction = dtc.predict(test_vectors)\n",
    "end_time = time.time()\n",
    "print(f\"Tested Decision Tree in {end_time-start_time} s\")"
   ]
  },
  {
   "cell_type": "markdown",
   "id": "657c2418",
   "metadata": {},
   "source": [
    "## Decision Tree general data results"
   ]
  },
  {
   "cell_type": "code",
   "execution_count": 14,
   "id": "fb5d5d92",
   "metadata": {},
   "outputs": [
    {
     "name": "stdout",
     "output_type": "stream",
     "text": [
      "Bad: {'precision': 0.7232704402515723, 'recall': 0.4166666666666667, 'f1-score': 0.5287356321839081, 'support': 276}\n",
      "\n",
      "Good: {'precision': 0.5208333333333334, 'recall': 0.7990867579908676, 'f1-score': 0.6306306306306307, 'support': 219}\n",
      "\n",
      "accuracy: 0.5858585858585859\n",
      "\n",
      "macro avg: {'precision': 0.6220518867924528, 'recall': 0.6078767123287672, 'f1-score': 0.5796831314072695, 'support': 495}\n",
      "\n",
      "weighted avg: {'precision': 0.633707356584715, 'recall': 0.5858585858585859, 'f1-score': 0.5738164496785186, 'support': 495}\n",
      "\n"
     ]
    }
   ],
   "source": [
    "report_tree = classification_report(general_y_test, prediction,output_dict=True,zero_division=0)\n",
    "for key in report_tree.keys():\n",
    "    print(f'{key}: {report_tree[key]}\\n')\n"
   ]
  },
  {
   "cell_type": "markdown",
   "id": "7ba973ba",
   "metadata": {},
   "source": [
    "# Test SVM on Elden Ring Reviews"
   ]
  },
  {
   "cell_type": "code",
   "execution_count": 15,
   "id": "2225ef1a",
   "metadata": {},
   "outputs": [
    {
     "name": "stdout",
     "output_type": "stream",
     "text": [
      "DATA DISTRIBUTION:\n",
      "Good: 9174\n",
      "Bad: 591\n"
     ]
    },
    {
     "data": {
      "text/html": [
       "<div>\n",
       "<style scoped>\n",
       "    .dataframe tbody tr th:only-of-type {\n",
       "        vertical-align: middle;\n",
       "    }\n",
       "\n",
       "    .dataframe tbody tr th {\n",
       "        vertical-align: top;\n",
       "    }\n",
       "\n",
       "    .dataframe thead th {\n",
       "        text-align: right;\n",
       "    }\n",
       "</style>\n",
       "<table border=\"1\" class=\"dataframe\">\n",
       "  <thead>\n",
       "    <tr style=\"text-align: right;\">\n",
       "      <th></th>\n",
       "      <th>review</th>\n",
       "      <th>voted_up</th>\n",
       "      <th>Sentiment</th>\n",
       "    </tr>\n",
       "  </thead>\n",
       "  <tbody>\n",
       "    <tr>\n",
       "      <th>0</th>\n",
       "      <td>being killed over and over again is fun</td>\n",
       "      <td>True</td>\n",
       "      <td>Good</td>\n",
       "    </tr>\n",
       "    <tr>\n",
       "      <th>1</th>\n",
       "      <td>I write this review as I have 100% completed E...</td>\n",
       "      <td>True</td>\n",
       "      <td>Good</td>\n",
       "    </tr>\n",
       "    <tr>\n",
       "      <th>2</th>\n",
       "      <td>Fun</td>\n",
       "      <td>True</td>\n",
       "      <td>Good</td>\n",
       "    </tr>\n",
       "    <tr>\n",
       "      <th>3</th>\n",
       "      <td>pretty cool.</td>\n",
       "      <td>True</td>\n",
       "      <td>Good</td>\n",
       "    </tr>\n",
       "    <tr>\n",
       "      <th>4</th>\n",
       "      <td>AMAZINGGGGGGGGGGGGG</td>\n",
       "      <td>True</td>\n",
       "      <td>Good</td>\n",
       "    </tr>\n",
       "  </tbody>\n",
       "</table>\n",
       "</div>"
      ],
      "text/plain": [
       "                                              review  voted_up Sentiment\n",
       "0            being killed over and over again is fun      True      Good\n",
       "1  I write this review as I have 100% completed E...      True      Good\n",
       "2                                                Fun      True      Good\n",
       "3                                       pretty cool.      True      Good\n",
       "4                                AMAZINGGGGGGGGGGGGG      True      Good"
      ]
     },
     "execution_count": 15,
     "metadata": {},
     "output_type": "execute_result"
    }
   ],
   "source": [
    "# For elden ring data\n",
    "elden_ring_data = elden_ring_data[['review','voted_up']]\n",
    "def GetSentiment(up_vote):\n",
    "    if(up_vote):\n",
    "        return GOOD\n",
    "    else:\n",
    "        return BAD\n",
    "s = []\n",
    "for rating in elden_ring_data['voted_up'].to_list():\n",
    "    s.append(GetSentiment(rating))\n",
    "elden_ring_data['Sentiment'] = s\n",
    "elden_ring_data.dropna(inplace=True)\n",
    "print(\"DATA DISTRIBUTION:\")\n",
    "SENTIMENTS = elden_ring_data['Sentiment'].unique()\n",
    "for s in SENTIMENTS:\n",
    "    print(f\"{s}: {sum(1 for i in elden_ring_data['Sentiment'] if i == s)}\")\n",
    "elden_ring_data.head()"
   ]
  },
  {
   "cell_type": "code",
   "execution_count": 16,
   "id": "97c8d63b",
   "metadata": {},
   "outputs": [],
   "source": [
    "# Create vectors\n",
    "elden_ring_test_X = elden_ring_data['review'].to_list()\n",
    "elden_ring_test_y = elden_ring_data['Sentiment'].to_list()\n",
    "elden_ring_vectors = vectorizer.transform(elden_ring_test_X)"
   ]
  },
  {
   "cell_type": "code",
   "execution_count": 17,
   "id": "193afa6b",
   "metadata": {},
   "outputs": [
    {
     "name": "stdout",
     "output_type": "stream",
     "text": [
      "Testing SVM on Elden Ring Reviews...\n",
      "Tested SVM in 10.122633934020996 s\n"
     ]
    }
   ],
   "source": [
    "# Test on elden ring reviews\n",
    "print('Testing SVM on Elden Ring Reviews...')\n",
    "start_time = time.time()\n",
    "prediction = svm_linear.predict(elden_ring_vectors)\n",
    "end_time = time.time()\n",
    "print(f\"Tested SVM in {end_time-start_time} s\")"
   ]
  },
  {
   "cell_type": "markdown",
   "id": "e8a3dbc4",
   "metadata": {},
   "source": [
    "## Elden ring SVM results"
   ]
  },
  {
   "cell_type": "code",
   "execution_count": 18,
   "id": "4cf4dd9e",
   "metadata": {},
   "outputs": [
    {
     "name": "stdout",
     "output_type": "stream",
     "text": [
      "Bad: {'precision': 0.06591380502419912, 'recall': 0.9678510998307953, 'f1-score': 0.12342215988779803, 'support': 591}\n",
      "\n",
      "Good: {'precision': 0.9825206991720331, 'recall': 0.11641595814257685, 'f1-score': 0.20816684533671181, 'support': 9174}\n",
      "\n",
      "accuracy: 0.1679467485919099\n",
      "\n",
      "macro avg: {'precision': 0.5242172520981161, 'recall': 0.5421335289866861, 'f1-score': 0.16579450261225492, 'support': 9765}\n",
      "\n",
      "weighted avg: {'precision': 0.9270455661007202, 'recall': 0.1679467485919099, 'f1-score': 0.20303790431261473, 'support': 9765}\n",
      "\n"
     ]
    }
   ],
   "source": [
    "report_elden_ring = classification_report(elden_ring_test_y, prediction,output_dict=True,zero_division=0)\n",
    "for key in report_tree.keys():\n",
    "    print(f'{key}: {report_elden_ring[key]}\\n')\n"
   ]
  }
 ],
 "metadata": {
  "kernelspec": {
   "display_name": "Python 3 (ipykernel)",
   "language": "python",
   "name": "python3"
  },
  "language_info": {
   "codemirror_mode": {
    "name": "ipython",
    "version": 3
   },
   "file_extension": ".py",
   "mimetype": "text/x-python",
   "name": "python",
   "nbconvert_exporter": "python",
   "pygments_lexer": "ipython3",
   "version": "3.11.2"
  }
 },
 "nbformat": 4,
 "nbformat_minor": 5
}
