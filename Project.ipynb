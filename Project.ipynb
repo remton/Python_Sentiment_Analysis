{
 "cells": [
  {
   "cell_type": "code",
   "execution_count": 1,
   "id": "d21c45e2",
   "metadata": {},
   "outputs": [],
   "source": [
    "#pip install scikit-learn\n",
    "#pip install pandas\n",
    "\n",
    "# Main imports pandas and sklearn\n",
    "import pandas as pd\n",
    "from sklearn.model_selection import train_test_split\n",
    "from sklearn import metrics\n",
    "from sklearn.feature_extraction.text import TfidfVectorizer\n",
    "from sklearn import svm\n",
    "from sklearn.metrics import classification_report\n",
    "from sklearn.tree import DecisionTreeClassifier\n",
    "from sklearn import tree\n",
    "\n",
    "# We need to do some web scraping to get the review text\n",
    "import urllib.request\n",
    "from bs4 import BeautifulSoup\n",
    "\n",
    "#Other imports\n",
    "import time\n",
    "import sys\n",
    "from os import system\n",
    "from IPython.display import clear_output"
   ]
  },
  {
   "cell_type": "markdown",
   "id": "021a83bc",
   "metadata": {},
   "source": [
    "# Load in data\n",
    "### There are a few steps to getting clean data\n",
    "- Read data from kaggle into dataframes\n",
    "- Get rid of unecessary features of the data\n",
    "- (For general data) get the review text from the web\n",
    "- Clean data using dropna"
   ]
  },
  {
   "cell_type": "markdown",
   "id": "adfe1d14",
   "metadata": {},
   "source": [
    "## Read in data from csv"
   ]
  },
  {
   "cell_type": "code",
   "execution_count": 2,
   "id": "257f8be9",
   "metadata": {},
   "outputs": [],
   "source": [
    "# Lets define our file paths for reading in data\n",
    "# download dataset at: https://www.kaggle.com/datasets/joyshil0599/multi-decade-video-game-review-dataset\n",
    "GENERAL_DATASET_PATH = \"data/general_reviews.csv\"\n",
    "# download dataset at: https://www.kaggle.com/datasets/noahx1/elden-ring-steam-reviews\n",
    "ELDEN_RING_DATASET_PATH = \"data/elden_ring_steam_reviews.csv\"\n",
    "# Path to save cleaned general data file\n",
    "GENERAL_CLEAN_DATA_PATH = 'data/general_data_clean.csv'\n",
    "\n",
    "#load in dataset\n",
    "# We have two datasets:\n",
    "# one using gamespot reviews (general_data)\n",
    "# the other Elden Ring Steam reviews (elden_ring_data)\n",
    "general_data = pd.read_csv(GENERAL_DATASET_PATH)\n",
    "elden_ring_data = pd.read_csv(ELDEN_RING_DATASET_PATH)\n"
   ]
  },
  {
   "cell_type": "code",
   "execution_count": 3,
   "id": "a5fd8eb2",
   "metadata": {},
   "outputs": [],
   "source": [
    "# Lets only keep the columns we want\n",
    "general_data = general_data[['Review link','Rating/10']]\n",
    "elden_ring_data = elden_ring_data[['voted_up','review']]"
   ]
  },
  {
   "cell_type": "markdown",
   "id": "020279b7",
   "metadata": {},
   "source": [
    "# Read in reviews from web (for general data)"
   ]
  },
  {
   "cell_type": "code",
   "execution_count": 4,
   "id": "70ae9564",
   "metadata": {},
   "outputs": [],
   "source": [
    "# Now lets define how to get the text of the reviews from the web\n",
    "def GetReviewsFromWeb():\n",
    "    num_processed = 1\n",
    "    prev_time = time.time()\n",
    "    num_links = len(general_data.index)\n",
    "    check_interval = 5\n",
    "    reviews = []\n",
    "    failed_links = []\n",
    "    for link in general_data['Review link']:\n",
    "        # Try to get the review text\n",
    "        try:\n",
    "            page = urllib.request.urlopen(link).read()\n",
    "            page = BeautifulSoup(page)\n",
    "            review = \"\"\n",
    "            body = page.find(class_=\"article-body typography-format\")\n",
    "            paragraphs = body.find_all(\"p\")\n",
    "            if(len(paragraphs)==0):\n",
    "                raise Exception('NO REVIEW TEXT FOUND')\n",
    "            for p in paragraphs:\n",
    "                review+=p.text+\" \"\n",
    "            reviews.append(review)\n",
    "        # If we could not get the review text\n",
    "        except:\n",
    "            reviews.append(None)\n",
    "            failed_links.append(link)\n",
    "        # Display progress\n",
    "        num_processed = num_processed + 1\n",
    "        if(num_processed % check_interval == 0):\n",
    "            prediction = (time.time() - prev_time)/(check_interval) * (num_links-len(reviews))\n",
    "            prev_time = time.time()\n",
    "            system('cls')\n",
    "            clear_output(wait=True)\n",
    "            print(f\"Reviews lost: {len(failed_links)}\")\n",
    "            print(f\"processed: {num_processed} / {num_links}\")\n",
    "            print(f\"Time left: {int(prediction)} s\")  \n",
    "    # Update dataframe and write to file\n",
    "    general_data['Review'] = reviews\n",
    "    "
   ]
  },
  {
   "cell_type": "code",
   "execution_count": 5,
   "id": "e1ff05be",
   "metadata": {},
   "outputs": [],
   "source": [
    "def CleanData():\n",
    "    # Now lets finish cleaning the data by dropping any rows where we do not have a review\n",
    "    old_size = general_data.shape\n",
    "    general_data.dropna(inplace=True)\n",
    "    general_data.to_csv(GENERAL_CLEAN_DATA_PATH,index=False)\n",
    "    new_size = general_data.shape\n",
    "    print(\"Dropping invalid reviews.\")\n",
    "    print(f\"Old count: {old_size[0]}\")\n",
    "    print(f\"New count: {new_size[0]}\")\n",
    "    print(f\"Removed {old_size[0]-new_size[0]} reviews.\")\n",
    "    "
   ]
  },
  {
   "cell_type": "code",
   "execution_count": 6,
   "id": "001e240a",
   "metadata": {},
   "outputs": [],
   "source": [
    "# If we don't already have the clean data we need to get it from the web\n",
    "file_found = True\n",
    "try:\n",
    "    general_data = pd.read_csv(GENERAL_CLEAN_DATA_PATH)\n",
    "except FileNotFoundError as e:\n",
    "    file_found = False\n",
    "if(not file_found):\n",
    "    GetReviewsFromWeb()\n",
    "    CleanData()"
   ]
  },
  {
   "cell_type": "markdown",
   "id": "2e531b6a",
   "metadata": {},
   "source": [
    "# Now lets define our classifications (Sentiment)"
   ]
  },
  {
   "cell_type": "code",
   "execution_count": 7,
   "id": "e6c89124",
   "metadata": {},
   "outputs": [],
   "source": [
    "# We define 2 sentiments to classify\n",
    "GOOD = 'Good'\n",
    "BAD = 'Bad'"
   ]
  },
  {
   "cell_type": "code",
   "execution_count": 8,
   "id": "10eb26a5",
   "metadata": {},
   "outputs": [
    {
     "name": "stdout",
     "output_type": "stream",
     "text": [
      "DATA DISTRIBUTION:\n",
      "Bad: 6743\n",
      "Good: 5823\n"
     ]
    },
    {
     "data": {
      "text/html": [
       "<div>\n",
       "<style scoped>\n",
       "    .dataframe tbody tr th:only-of-type {\n",
       "        vertical-align: middle;\n",
       "    }\n",
       "\n",
       "    .dataframe tbody tr th {\n",
       "        vertical-align: top;\n",
       "    }\n",
       "\n",
       "    .dataframe thead th {\n",
       "        text-align: right;\n",
       "    }\n",
       "</style>\n",
       "<table border=\"1\" class=\"dataframe\">\n",
       "  <thead>\n",
       "    <tr style=\"text-align: right;\">\n",
       "      <th></th>\n",
       "      <th>Review link</th>\n",
       "      <th>Rating/10</th>\n",
       "      <th>Sentiment</th>\n",
       "      <th>Review</th>\n",
       "    </tr>\n",
       "  </thead>\n",
       "  <tbody>\n",
       "    <tr>\n",
       "      <th>0</th>\n",
       "      <td>https://www.gamespot.com/reviews/tales-of-symp...</td>\n",
       "      <td>5.0</td>\n",
       "      <td>Bad</td>\n",
       "      <td>Tales of Symphonia was a formative experience ...</td>\n",
       "    </tr>\n",
       "    <tr>\n",
       "      <th>1</th>\n",
       "      <td>https://www.gamespot.com/reviews/kirbys-return...</td>\n",
       "      <td>7.0</td>\n",
       "      <td>Bad</td>\n",
       "      <td>Mario is the most versatile character in the N...</td>\n",
       "    </tr>\n",
       "    <tr>\n",
       "      <th>2</th>\n",
       "      <td>https://www.gamespot.com/reviews/hogwarts-lega...</td>\n",
       "      <td>6.0</td>\n",
       "      <td>Bad</td>\n",
       "      <td>Hogwarts Legacy is developed by Avalanche Soft...</td>\n",
       "    </tr>\n",
       "    <tr>\n",
       "      <th>3</th>\n",
       "      <td>https://www.gamespot.com/reviews/atomic-heart-...</td>\n",
       "      <td>6.0</td>\n",
       "      <td>Bad</td>\n",
       "      <td>Atomic Heart doesn't hide its BioShock Infinit...</td>\n",
       "    </tr>\n",
       "    <tr>\n",
       "      <th>4</th>\n",
       "      <td>https://www.gamespot.com/reviews/like-a-dragon...</td>\n",
       "      <td>8.0</td>\n",
       "      <td>Good</td>\n",
       "      <td>Take the faces, voices, and over-the-top theat...</td>\n",
       "    </tr>\n",
       "  </tbody>\n",
       "</table>\n",
       "</div>"
      ],
      "text/plain": [
       "                                         Review link  Rating/10 Sentiment   \n",
       "0  https://www.gamespot.com/reviews/tales-of-symp...        5.0       Bad  \\\n",
       "1  https://www.gamespot.com/reviews/kirbys-return...        7.0       Bad   \n",
       "2  https://www.gamespot.com/reviews/hogwarts-lega...        6.0       Bad   \n",
       "3  https://www.gamespot.com/reviews/atomic-heart-...        6.0       Bad   \n",
       "4  https://www.gamespot.com/reviews/like-a-dragon...        8.0      Good   \n",
       "\n",
       "                                              Review  \n",
       "0  Tales of Symphonia was a formative experience ...  \n",
       "1  Mario is the most versatile character in the N...  \n",
       "2  Hogwarts Legacy is developed by Avalanche Soft...  \n",
       "3  Atomic Heart doesn't hide its BioShock Infinit...  \n",
       "4  Take the faces, voices, and over-the-top theat...  "
      ]
     },
     "execution_count": 8,
     "metadata": {},
     "output_type": "execute_result"
    }
   ],
   "source": [
    "# General data\n",
    "# I tried to choose values for rating that made sense and split the data kind of evenly\n",
    "def GetSentimentFromRating(rating):\n",
    "    if(rating is None):\n",
    "        return None\n",
    "    if(rating > 7):\n",
    "        return GOOD\n",
    "    if(rating > 0):\n",
    "        return BAD\n",
    "s = []\n",
    "for rating in general_data['Rating/10'].to_list():\n",
    "    s.append(GetSentimentFromRating(rating))\n",
    "general_data['Sentiment'] = s\n",
    "general_data.dropna(inplace=True)\n",
    "print(\"DATA DISTRIBUTION:\")\n",
    "SENTIMENTS = general_data['Sentiment'].unique()\n",
    "for s in SENTIMENTS:\n",
    "    print(f\"{s}: {sum(1 for i in general_data['Sentiment'] if i == s)}\")\n",
    "general_data.head()"
   ]
  },
  {
   "cell_type": "code",
   "execution_count": 9,
   "id": "d093527e",
   "metadata": {},
   "outputs": [
    {
     "name": "stdout",
     "output_type": "stream",
     "text": [
      "DATA DISTRIBUTION:\n",
      "Good: 9174\n",
      "Bad: 591\n"
     ]
    },
    {
     "data": {
      "text/html": [
       "<div>\n",
       "<style scoped>\n",
       "    .dataframe tbody tr th:only-of-type {\n",
       "        vertical-align: middle;\n",
       "    }\n",
       "\n",
       "    .dataframe tbody tr th {\n",
       "        vertical-align: top;\n",
       "    }\n",
       "\n",
       "    .dataframe thead th {\n",
       "        text-align: right;\n",
       "    }\n",
       "</style>\n",
       "<table border=\"1\" class=\"dataframe\">\n",
       "  <thead>\n",
       "    <tr style=\"text-align: right;\">\n",
       "      <th></th>\n",
       "      <th>Review</th>\n",
       "      <th>voted_up</th>\n",
       "      <th>Sentiment</th>\n",
       "    </tr>\n",
       "  </thead>\n",
       "  <tbody>\n",
       "    <tr>\n",
       "      <th>0</th>\n",
       "      <td>being killed over and over again is fun</td>\n",
       "      <td>True</td>\n",
       "      <td>Good</td>\n",
       "    </tr>\n",
       "    <tr>\n",
       "      <th>1</th>\n",
       "      <td>I write this review as I have 100% completed E...</td>\n",
       "      <td>True</td>\n",
       "      <td>Good</td>\n",
       "    </tr>\n",
       "    <tr>\n",
       "      <th>2</th>\n",
       "      <td>Fun</td>\n",
       "      <td>True</td>\n",
       "      <td>Good</td>\n",
       "    </tr>\n",
       "    <tr>\n",
       "      <th>3</th>\n",
       "      <td>pretty cool.</td>\n",
       "      <td>True</td>\n",
       "      <td>Good</td>\n",
       "    </tr>\n",
       "    <tr>\n",
       "      <th>4</th>\n",
       "      <td>AMAZINGGGGGGGGGGGGG</td>\n",
       "      <td>True</td>\n",
       "      <td>Good</td>\n",
       "    </tr>\n",
       "  </tbody>\n",
       "</table>\n",
       "</div>"
      ],
      "text/plain": [
       "                                              Review  voted_up Sentiment\n",
       "0            being killed over and over again is fun      True      Good\n",
       "1  I write this review as I have 100% completed E...      True      Good\n",
       "2                                                Fun      True      Good\n",
       "3                                       pretty cool.      True      Good\n",
       "4                                AMAZINGGGGGGGGGGGGG      True      Good"
      ]
     },
     "execution_count": 9,
     "metadata": {},
     "output_type": "execute_result"
    }
   ],
   "source": [
    "#elden ring data\n",
    "elden_ring_data = elden_ring_data[['review','voted_up']]\n",
    "elden_ring_data.rename(columns={'review':'Review'},inplace=True)\n",
    "def GetSentimentFromUpVote(up_vote):\n",
    "    if(up_vote):\n",
    "        return GOOD\n",
    "    else:\n",
    "        return BAD\n",
    "s = []\n",
    "for upvote in elden_ring_data['voted_up'].to_list():\n",
    "    s.append(GetSentimentFromUpVote(upvote))\n",
    "elden_ring_data['Sentiment'] = s\n",
    "elden_ring_data.dropna(inplace=True)\n",
    "print(\"DATA DISTRIBUTION:\")\n",
    "SENTIMENTS = elden_ring_data['Sentiment'].unique()\n",
    "for s in SENTIMENTS:\n",
    "    print(f\"{s}: {sum(1 for i in elden_ring_data['Sentiment'] if i == s)}\")\n",
    "elden_ring_data.head()"
   ]
  },
  {
   "cell_type": "markdown",
   "id": "d639f759",
   "metadata": {},
   "source": [
    "# Now we split our data"
   ]
  },
  {
   "cell_type": "code",
   "execution_count": 10,
   "id": "c25c7fc4",
   "metadata": {},
   "outputs": [],
   "source": [
    "def SplitData(df,test_split=0.3):\n",
    "    #split datasets\n",
    "    X = df['Review']\n",
    "    y = df['Sentiment'] \n",
    "    X_train, X_test, y_train, y_test = train_test_split(X, y, test_size = test_split, random_state=1) \n",
    "    X_train.to_list()\n",
    "    X_test = X_test.to_list()\n",
    "    y_train = y_train.to_list()\n",
    "    y_test = y_test.to_list()\n",
    "    return X_train, X_test, y_train, y_test "
   ]
  },
  {
   "cell_type": "code",
   "execution_count": 11,
   "id": "1d6897e6",
   "metadata": {},
   "outputs": [],
   "source": [
    "general_X_train, general_X_test, general_y_train, general_y_test = SplitData(general_data)\n",
    "elden_ring_X_train, elden_ring_X_test, elden_ring_y_train, elden_ring_y_test = SplitData(elden_ring_data)"
   ]
  },
  {
   "cell_type": "markdown",
   "id": "55c62874",
   "metadata": {},
   "source": [
    "## Vectorize the data\n",
    "We will be using a method called **Term Frequency and Inverse Document Frequency (TF-IDF)**. \n",
    "Here is how it works: https://medium.com/@vasista/preparing-the-text-data-with-scikit-learn-b31a3df567e\n",
    "\n",
    "#### sklearn supplies an easy way to implement this"
   ]
  },
  {
   "cell_type": "code",
   "execution_count": 12,
   "id": "8d96ec3d",
   "metadata": {},
   "outputs": [],
   "source": [
    "def CreateVectorizer(X_train):\n",
    "    vectorizer = TfidfVectorizer(min_df = 5,max_df = 0.8,sublinear_tf = True,use_idf = True)\n",
    "    train_vectors = vectorizer.fit_transform(X_train)\n",
    "    return vectorizer, train_vectors"
   ]
  },
  {
   "cell_type": "markdown",
   "id": "831c567b",
   "metadata": {},
   "source": [
    "# Creating svm\n",
    "#### Helpful link to understand how this works:\n",
    "- https://medium.com/@vasista/sentiment-analysis-using-svm-338d418e3ff1\n",
    "\n"
   ]
  },
  {
   "cell_type": "code",
   "execution_count": 13,
   "id": "c4c3fd6d",
   "metadata": {},
   "outputs": [],
   "source": [
    "def TestSVM(svm_linear, vectorizer, X_test, y_test):\n",
    "    test_vectors = vectorizer.transform(X_test)\n",
    "    print('Testing SVM ...')\n",
    "    start_time = time.time()\n",
    "    prediction = svm_linear.predict(test_vectors)\n",
    "    end_time = time.time()\n",
    "    print(f\"Tested SVM in {end_time-start_time} s\")\n",
    "    report = classification_report(y_test, prediction, output_dict=True, zero_division=0)\n",
    "    for key in report.keys():\n",
    "        print(f'{key}: {report[key]}\\n')\n",
    "    return report"
   ]
  },
  {
   "cell_type": "code",
   "execution_count": 14,
   "id": "1fdb86ed",
   "metadata": {},
   "outputs": [],
   "source": [
    "def CreateSVM(x_train, y_train):\n",
    "    vectorizer, train_vectors = CreateVectorizer(x_train)\n",
    "    svm_linear = svm.SVC(kernel='linear')\n",
    "    print('training SVM...')\n",
    "    start_time = time.time()\n",
    "    svm_linear.fit(train_vectors, y_train)\n",
    "    end_time = time.time()\n",
    "    print(f\"Trained SVM in {end_time-start_time} s\")\n",
    "    return svm_linear, vectorizer"
   ]
  },
  {
   "cell_type": "markdown",
   "id": "4b55cde9",
   "metadata": {},
   "source": [
    "# Train SVM with general data"
   ]
  },
  {
   "cell_type": "code",
   "execution_count": 15,
   "id": "aed9db82",
   "metadata": {},
   "outputs": [
    {
     "name": "stdout",
     "output_type": "stream",
     "text": [
      "training SVM...\n",
      "Trained SVM in 161.44585418701172 s\n"
     ]
    }
   ],
   "source": [
    "general_svm, general_vectorizer = CreateSVM(general_X_train, general_y_train)"
   ]
  },
  {
   "cell_type": "markdown",
   "id": "040ec4b6",
   "metadata": {},
   "source": [
    "# Test general_svm on general test data"
   ]
  },
  {
   "cell_type": "code",
   "execution_count": 16,
   "id": "f690fa2c",
   "metadata": {},
   "outputs": [
    {
     "name": "stdout",
     "output_type": "stream",
     "text": [
      "Testing SVM ...\n",
      "Tested SVM in 67.00135326385498 s\n",
      "Bad: {'precision': 0.8589935226706528, 'recall': 0.8534653465346534, 'f1-score': 0.8562205115470574, 'support': 2020}\n",
      "\n",
      "Good: {'precision': 0.8321043675553035, 'recall': 0.8382857142857143, 'f1-score': 0.8351836037574722, 'support': 1750}\n",
      "\n",
      "accuracy: 0.8464190981432361\n",
      "\n",
      "macro avg: {'precision': 0.8455489451129781, 'recall': 0.8458755304101839, 'f1-score': 0.8457020576522648, 'support': 3770}\n",
      "\n",
      "weighted avg: {'precision': 0.8465118193677718, 'recall': 0.8464190981432361, 'f1-score': 0.8464553686739077, 'support': 3770}\n",
      "\n"
     ]
    }
   ],
   "source": [
    "report = TestSVM(general_svm, general_vectorizer, general_X_test, general_y_test)"
   ]
  },
  {
   "cell_type": "markdown",
   "id": "417e6031",
   "metadata": {},
   "source": [
    "# Test general_svm on elden ring data"
   ]
  },
  {
   "cell_type": "code",
   "execution_count": 17,
   "id": "491760fd",
   "metadata": {},
   "outputs": [
    {
     "name": "stdout",
     "output_type": "stream",
     "text": [
      "Testing SVM ...\n",
      "Tested SVM in 9.404067993164062 s\n",
      "Bad: {'precision': 0.06494960806270997, 'recall': 1.0, 'f1-score': 0.12197686645636174, 'support': 174}\n",
      "\n",
      "Good: {'precision': 1.0, 'recall': 0.09107402031930334, 'f1-score': 0.16694379780512136, 'support': 2756}\n",
      "\n",
      "accuracy: 0.14505119453924914\n",
      "\n",
      "macro avg: {'precision': 0.5324748040313549, 'recall': 0.5455370101596517, 'f1-score': 0.14446033213074155, 'support': 2930}\n",
      "\n",
      "weighted avg: {'precision': 0.9444714101716422, 'recall': 0.14505119453924914, 'f1-score': 0.16427340666017795, 'support': 2930}\n",
      "\n"
     ]
    }
   ],
   "source": [
    "report = TestSVM(general_svm, general_vectorizer, elden_ring_X_test, elden_ring_y_test)"
   ]
  },
  {
   "cell_type": "markdown",
   "id": "6fcddbb2",
   "metadata": {},
   "source": [
    "# Train SVM with elden ring data"
   ]
  },
  {
   "cell_type": "code",
   "execution_count": 18,
   "id": "8376ceff",
   "metadata": {},
   "outputs": [
    {
     "name": "stdout",
     "output_type": "stream",
     "text": [
      "training SVM...\n",
      "Trained SVM in 0.9890315532684326 s\n"
     ]
    }
   ],
   "source": [
    "elden_ring_svm, elden_ring_vectorizer = CreateSVM(elden_ring_X_train, elden_ring_y_train)"
   ]
  },
  {
   "cell_type": "markdown",
   "id": "c5c8f02c",
   "metadata": {},
   "source": [
    "# Test elden_ring_svm on elden ring test data"
   ]
  },
  {
   "cell_type": "code",
   "execution_count": 19,
   "id": "05d542c9",
   "metadata": {},
   "outputs": [
    {
     "name": "stdout",
     "output_type": "stream",
     "text": [
      "Testing SVM ...\n",
      "Tested SVM in 0.3330652713775635 s\n",
      "Bad: {'precision': 0.8043478260869565, 'recall': 0.21264367816091953, 'f1-score': 0.33636363636363636, 'support': 174}\n",
      "\n",
      "Good: {'precision': 0.95249653259362, 'recall': 0.9967343976777939, 'f1-score': 0.974113475177305, 'support': 2756}\n",
      "\n",
      "accuracy: 0.9501706484641638\n",
      "\n",
      "macro avg: {'precision': 0.8784221793402882, 'recall': 0.6046890379193567, 'f1-score': 0.6552385557704706, 'support': 2930}\n",
      "\n",
      "weighted avg: {'precision': 0.9436986230604597, 'recall': 0.9501706484641638, 'f1-score': 0.9362402765583362, 'support': 2930}\n",
      "\n"
     ]
    }
   ],
   "source": [
    "report = TestSVM(elden_ring_svm, elden_ring_vectorizer, elden_ring_X_test, elden_ring_y_test)"
   ]
  },
  {
   "cell_type": "markdown",
   "id": "9efe33c5",
   "metadata": {},
   "source": [
    "# Test elden_ring_svm on general data"
   ]
  },
  {
   "cell_type": "code",
   "execution_count": 20,
   "id": "e0608c6f",
   "metadata": {},
   "outputs": [
    {
     "name": "stdout",
     "output_type": "stream",
     "text": [
      "Testing SVM ...\n",
      "Tested SVM in 2.3496575355529785 s\n",
      "Bad: {'precision': 0.7410714285714286, 'recall': 0.20544554455445543, 'f1-score': 0.32170542635658916, 'support': 2020}\n",
      "\n",
      "Good: {'precision': 0.5, 'recall': 0.9171428571428571, 'f1-score': 0.6471774193548386, 'support': 1750}\n",
      "\n",
      "accuracy: 0.5358090185676393\n",
      "\n",
      "macro avg: {'precision': 0.6205357142857143, 'recall': 0.5612942008486563, 'f1-score': 0.4844414228557139, 'support': 3770}\n",
      "\n",
      "weighted avg: {'precision': 0.6291682455475559, 'recall': 0.5358090185676393, 'f1-score': 0.47278659021519304, 'support': 3770}\n",
      "\n"
     ]
    }
   ],
   "source": [
    "report = TestSVM(elden_ring_svm, elden_ring_vectorizer, general_X_test, general_y_test)"
   ]
  }
 ],
 "metadata": {
  "kernelspec": {
   "display_name": "Python 3 (ipykernel)",
   "language": "python",
   "name": "python3"
  },
  "language_info": {
   "codemirror_mode": {
    "name": "ipython",
    "version": 3
   },
   "file_extension": ".py",
   "mimetype": "text/x-python",
   "name": "python",
   "nbconvert_exporter": "python",
   "pygments_lexer": "ipython3",
   "version": "3.11.2"
  }
 },
 "nbformat": 4,
 "nbformat_minor": 5
}
