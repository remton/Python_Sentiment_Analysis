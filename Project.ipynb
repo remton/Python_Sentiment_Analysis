{
 "cells": [
  {
   "cell_type": "code",
   "execution_count": 1,
   "id": "d21c45e2",
   "metadata": {},
   "outputs": [],
   "source": [
    "#imports\n",
    "#pip install scikit-learn\n",
    "#pip install pandas\n",
    "\n",
    "import pandas as pd\n",
    "from sklearn.model_selection import train_test_split\n",
    "from sklearn.datasets import load_iris\n",
    "from sklearn.metrics import confusion_matrix, ConfusionMatrixDisplay\n",
    "from sklearn import metrics\n",
    "# We need to do some web scraping to get the review text\n",
    "import urllib.request\n",
    "from bs4 import BeautifulSoup\n",
    "#Other imports\n",
    "import time\n",
    "import sys\n",
    "from os import system\n",
    "from IPython.display import clear_output"
   ]
  },
  {
   "cell_type": "code",
   "execution_count": 2,
   "id": "257f8be9",
   "metadata": {},
   "outputs": [],
   "source": [
    "# Lets define our file paths for reading in data\n",
    "# download dataset at: https://www.kaggle.com/datasets/joyshil0599/multi-decade-video-game-review-dataset\n",
    "GENERAL_DATASET_PATH = \"data/general_reviews.csv\"\n",
    "# download dataset at: https://www.kaggle.com/datasets/noahx1/elden-ring-steam-reviews\n",
    "ELDEN_RING_DATASET_PATH = \"data/elden_ring_steam_reviews.csv\"\n",
    "\n",
    "# Other paths to save cleaned data files\n",
    "GENERAL_CLEAN_DATA_PATH = '/data/general_data_clean.csv'\n",
    "\n",
    "#load in datasets\n",
    "# We have two datasets:\n",
    "# one using gamespot reviews (general_data)\n",
    "# the other Elden Ring Steam reviews (elden_ring_data)\n",
    "general_data = pd.read_csv(GENERAL_DATASET_PATH)\n",
    "elden_ring_data = pd.read_csv(ELDEN_RING_DATASET_PATH)\n"
   ]
  },
  {
   "cell_type": "code",
   "execution_count": 3,
   "id": "a5fd8eb2",
   "metadata": {},
   "outputs": [
    {
     "data": {
      "text/html": [
       "<div>\n",
       "<style scoped>\n",
       "    .dataframe tbody tr th:only-of-type {\n",
       "        vertical-align: middle;\n",
       "    }\n",
       "\n",
       "    .dataframe tbody tr th {\n",
       "        vertical-align: top;\n",
       "    }\n",
       "\n",
       "    .dataframe thead th {\n",
       "        text-align: right;\n",
       "    }\n",
       "</style>\n",
       "<table border=\"1\" class=\"dataframe\">\n",
       "  <thead>\n",
       "    <tr style=\"text-align: right;\">\n",
       "      <th></th>\n",
       "      <th>Review link</th>\n",
       "      <th>Rating/10</th>\n",
       "      <th>Rating Comments</th>\n",
       "    </tr>\n",
       "  </thead>\n",
       "  <tbody>\n",
       "    <tr>\n",
       "      <th>0</th>\n",
       "      <td>https://www.gamespot.com/reviews/tales-of-symp...</td>\n",
       "      <td>5.0</td>\n",
       "      <td>Mediocre</td>\n",
       "    </tr>\n",
       "    <tr>\n",
       "      <th>1</th>\n",
       "      <td>https://www.gamespot.com/reviews/kirbys-return...</td>\n",
       "      <td>7.0</td>\n",
       "      <td>Good</td>\n",
       "    </tr>\n",
       "    <tr>\n",
       "      <th>2</th>\n",
       "      <td>https://www.gamespot.com/reviews/hogwarts-lega...</td>\n",
       "      <td>6.0</td>\n",
       "      <td>Fair</td>\n",
       "    </tr>\n",
       "    <tr>\n",
       "      <th>3</th>\n",
       "      <td>https://www.gamespot.com/reviews/atomic-heart-...</td>\n",
       "      <td>6.0</td>\n",
       "      <td>Fair</td>\n",
       "    </tr>\n",
       "    <tr>\n",
       "      <th>4</th>\n",
       "      <td>https://www.gamespot.com/reviews/like-a-dragon...</td>\n",
       "      <td>8.0</td>\n",
       "      <td>Great</td>\n",
       "    </tr>\n",
       "  </tbody>\n",
       "</table>\n",
       "</div>"
      ],
      "text/plain": [
       "                                         Review link  Rating/10   \n",
       "0  https://www.gamespot.com/reviews/tales-of-symp...        5.0  \\\n",
       "1  https://www.gamespot.com/reviews/kirbys-return...        7.0   \n",
       "2  https://www.gamespot.com/reviews/hogwarts-lega...        6.0   \n",
       "3  https://www.gamespot.com/reviews/atomic-heart-...        6.0   \n",
       "4  https://www.gamespot.com/reviews/like-a-dragon...        8.0   \n",
       "\n",
       "  Rating Comments  \n",
       "0        Mediocre  \n",
       "1            Good  \n",
       "2            Fair  \n",
       "3            Fair  \n",
       "4           Great  "
      ]
     },
     "execution_count": 3,
     "metadata": {},
     "output_type": "execute_result"
    }
   ],
   "source": [
    "# Clean and format General Data\n",
    "# Lets only keep the columns we want\n",
    "general_data = general_data[['Review link','Rating/10','Rating Comments']]\n",
    "general_data.head()"
   ]
  },
  {
   "cell_type": "code",
   "execution_count": 4,
   "id": "e6c89124",
   "metadata": {},
   "outputs": [
    {
     "name": "stdout",
     "output_type": "stream",
     "text": [
      "[1. 0. 2.]\n",
      "shape=(12591, 3)\n"
     ]
    },
    {
     "data": {
      "text/html": [
       "<div>\n",
       "<style scoped>\n",
       "    .dataframe tbody tr th:only-of-type {\n",
       "        vertical-align: middle;\n",
       "    }\n",
       "\n",
       "    .dataframe tbody tr th {\n",
       "        vertical-align: top;\n",
       "    }\n",
       "\n",
       "    .dataframe thead th {\n",
       "        text-align: right;\n",
       "    }\n",
       "</style>\n",
       "<table border=\"1\" class=\"dataframe\">\n",
       "  <thead>\n",
       "    <tr style=\"text-align: right;\">\n",
       "      <th></th>\n",
       "      <th>Review link</th>\n",
       "      <th>Rating/10</th>\n",
       "      <th>Sentiment</th>\n",
       "    </tr>\n",
       "  </thead>\n",
       "  <tbody>\n",
       "    <tr>\n",
       "      <th>0</th>\n",
       "      <td>https://www.gamespot.com/reviews/tales-of-symp...</td>\n",
       "      <td>5.0</td>\n",
       "      <td>1.0</td>\n",
       "    </tr>\n",
       "    <tr>\n",
       "      <th>1</th>\n",
       "      <td>https://www.gamespot.com/reviews/kirbys-return...</td>\n",
       "      <td>7.0</td>\n",
       "      <td>0.0</td>\n",
       "    </tr>\n",
       "    <tr>\n",
       "      <th>2</th>\n",
       "      <td>https://www.gamespot.com/reviews/hogwarts-lega...</td>\n",
       "      <td>6.0</td>\n",
       "      <td>1.0</td>\n",
       "    </tr>\n",
       "    <tr>\n",
       "      <th>3</th>\n",
       "      <td>https://www.gamespot.com/reviews/atomic-heart-...</td>\n",
       "      <td>6.0</td>\n",
       "      <td>1.0</td>\n",
       "    </tr>\n",
       "    <tr>\n",
       "      <th>4</th>\n",
       "      <td>https://www.gamespot.com/reviews/like-a-dragon...</td>\n",
       "      <td>8.0</td>\n",
       "      <td>0.0</td>\n",
       "    </tr>\n",
       "  </tbody>\n",
       "</table>\n",
       "</div>"
      ],
      "text/plain": [
       "                                         Review link  Rating/10  Sentiment\n",
       "0  https://www.gamespot.com/reviews/tales-of-symp...        5.0        1.0\n",
       "1  https://www.gamespot.com/reviews/kirbys-return...        7.0        0.0\n",
       "2  https://www.gamespot.com/reviews/hogwarts-lega...        6.0        1.0\n",
       "3  https://www.gamespot.com/reviews/atomic-heart-...        6.0        1.0\n",
       "4  https://www.gamespot.com/reviews/like-a-dragon...        8.0        0.0"
      ]
     },
     "execution_count": 4,
     "metadata": {},
     "output_type": "execute_result"
    }
   ],
   "source": [
    "# We can get all the comment types with:\n",
    "# print(general_data['Rating Comments'].unique())\n",
    "# This gives the following list:\n",
    "# ['Mediocre' 'Good' 'Fair' 'Great' 'Superb' 'Poor' 'Essential' 'Abysmal'\n",
    "#  'Early Access' 'Terrible' 'Bad' 'Good\\x1a' nan 'Essential\"width-100 src']\n",
    "# Lets convert these into just good and bad. We will make a dictionary showing what to convert to in each case\n",
    "GOOD = 0\n",
    "NUETRAL = 1\n",
    "BAD = 2\n",
    "#In case we want to use rating to indicate sentiment\n",
    "# def GetSentiment(rating):\n",
    "#     if(rating < 5):\n",
    "#         return BAD\n",
    "#     else:\n",
    "#         return GOOD\n",
    "comment_dict = {'Mediocre':NUETRAL,'Good':GOOD,'Fair':NUETRAL,'Great':GOOD,'Superb':GOOD,\n",
    "                'Poor':BAD,'Essential':GOOD,'Abysmal':BAD,'Early Access':NUETRAL,\n",
    "                'Terrible':BAD,'Bad':BAD,'Good\\x1a':GOOD,'Essential\"width-100 src':None}\n",
    "#Convert rating comments using dict\n",
    "general_data.replace({'Rating Comments':comment_dict}, inplace=True)\n",
    "general_data.dropna(inplace=True)\n",
    "print(general_data['Rating Comments'].unique())\n",
    "print(f\"shape={general_data.shape}\")\n",
    "#Lets rename Rating Comments to Sentiment\n",
    "general_data.rename(columns={'Rating Comments':'Sentiment'},inplace=True)\n",
    "general_data.head()"
   ]
  },
  {
   "cell_type": "code",
   "execution_count": 5,
   "id": "70ae9564",
   "metadata": {},
   "outputs": [],
   "source": [
    "# Now lets define how to get the text of the reviews from the web\n",
    "def GetReviewsFromWeb():\n",
    "    num_processed = 1\n",
    "    prev_time = time.time()\n",
    "    num_links = len(general_data.index)\n",
    "    check_interval = 5\n",
    "    reviews = []\n",
    "    failed_links = []\n",
    "    for link in general_data['Review link']:\n",
    "        # Try to get the review text\n",
    "        try:\n",
    "            page = urllib.request.urlopen(link).read()\n",
    "            page = BeautifulSoup(page)\n",
    "            review = \"\"\n",
    "            body = page.find(class_=\"article-body typography-format\")\n",
    "            paragraphs = body.find_all(\"p\")\n",
    "            if(len(paragraphs)==0):\n",
    "                raise Exception('NO REVIEW TEXT FOUND')\n",
    "            for p in paragraphs:\n",
    "                review+=p.text+\" \"\n",
    "            reviews.append(review)\n",
    "        # If we could not get the review text\n",
    "        except:\n",
    "            reviews.append(None)\n",
    "            failed_links.append(link)\n",
    "        # Display progress\n",
    "        num_processed = num_processed + 1\n",
    "        if(num_processed % check_interval == 0):\n",
    "            prediction = (time.time() - prev_time)/(check_interval) * (num_links-len(reviews))\n",
    "            prev_time = time.time()\n",
    "            system('cls')\n",
    "            clear_output(wait=True)\n",
    "            print(f\"Reviews lost: {len(failed_links)}\")\n",
    "            print(f\"processed: {num_processed} / {num_links}\")\n",
    "            print(f\"Time left: {int(prediction)} s\")  \n",
    "    #Update dataframe and write to file\n",
    "    general_data['Review'] = reviews\n",
    "    # Now lets finish cleaning the data by dropping any rows where we do not have a review\n",
    "    old_size = general_data.shape\n",
    "    general_data.dropna(inplace=True)\n",
    "    new_size = general_data.shape\n",
    "    print(\"Dropping invalid reviews.\")\n",
    "    print(f\"Old count: {old_size[0]}\")\n",
    "    print(f\"New count: {new_size[0]}\")\n",
    "    print(f\"Removed {old_size[0]-new_size[0]} reviews.\")"
   ]
  },
  {
   "cell_type": "code",
   "execution_count": 6,
   "id": "001e240a",
   "metadata": {},
   "outputs": [
    {
     "name": "stdout",
     "output_type": "stream",
     "text": [
      "Reviews lost: 36\n",
      "processed: 12590 / 12591\n",
      "Time left: 1 s\n",
      "Dropping invalid reviews.\n",
      "Old count: 12591\n",
      "New count: 12555\n",
      "Removed 36 reviews.\n"
     ]
    }
   ],
   "source": [
    "# If we don't already have the clean data we need to get it from the web\n",
    "file_found = True\n",
    "try:\n",
    "    general_data = pd.read_csv(GENERAL_CLEAN_DATA_PATH)\n",
    "except:\n",
    "    file_found = False\n",
    "if(not file_found):\n",
    "    GetReviewsFromWeb()\n"
   ]
  },
  {
   "cell_type": "code",
   "execution_count": 7,
   "id": "e29250d0",
   "metadata": {},
   "outputs": [
    {
     "name": "stdout",
     "output_type": "stream",
     "text": [
      "https://www.gamespot.com/reviews/hogwarts-legacy-review-sleight-of-hand/1900-6418032/\n"
     ]
    }
   ],
   "source": [
    "general_data.to_csv(GENERAL_CLEAN_DATA_PATH)"
   ]
  },
  {
   "cell_type": "code",
   "execution_count": 8,
   "id": "5a42e81e",
   "metadata": {},
   "outputs": [
    {
     "ename": "SyntaxError",
     "evalue": "invalid syntax (3864098717.py, line 3)",
     "output_type": "error",
     "traceback": [
      "\u001b[1;36m  Cell \u001b[1;32mIn[8], line 3\u001b[1;36m\u001b[0m\n\u001b[1;33m    general_X =\u001b[0m\n\u001b[1;37m                ^\u001b[0m\n\u001b[1;31mSyntaxError\u001b[0m\u001b[1;31m:\u001b[0m invalid syntax\n"
     ]
    }
   ],
   "source": [
    "#split datasets\n",
    "TEST_SIZE = 0.3\n",
    "general_X = \n",
    "general_Y = \n",
    "general_X_train, general_X_test, general_y_train, general_y_test = train_test_split(general_X, general_y, test_size = TEST_SIZE, random_state=1)"
   ]
  },
  {
   "cell_type": "code",
   "execution_count": null,
   "id": "d9b20e7b",
   "metadata": {},
   "outputs": [],
   "source": [
    "#create svm\n",
    "print('h')"
   ]
  },
  {
   "cell_type": "code",
   "execution_count": null,
   "id": "bcd67cdc",
   "metadata": {},
   "outputs": [],
   "source": [
    "#train svm with general reviews data set\n"
   ]
  },
  {
   "cell_type": "code",
   "execution_count": null,
   "id": "01323879",
   "metadata": {},
   "outputs": [],
   "source": [
    "#Test accuracy of svm\n"
   ]
  }
 ],
 "metadata": {
  "kernelspec": {
   "display_name": "Python 3 (ipykernel)",
   "language": "python",
   "name": "python3"
  },
  "language_info": {
   "codemirror_mode": {
    "name": "ipython",
    "version": 3
   },
   "file_extension": ".py",
   "mimetype": "text/x-python",
   "name": "python",
   "nbconvert_exporter": "python",
   "pygments_lexer": "ipython3",
   "version": "3.11.2"
  }
 },
 "nbformat": 4,
 "nbformat_minor": 5
}
